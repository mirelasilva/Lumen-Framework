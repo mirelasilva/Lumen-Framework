{
 "cells": [
  {
   "cell_type": "markdown",
   "metadata": {
    "toc": true
   },
   "source": [
    "<h1>Table of Contents - test<span class=\"tocSkip\"></span></h1>\n",
    "<div class=\"toc\"><ul class=\"toc-item\"><li><span><a href=\"#get-clean-data\" data-toc-modified-id=\"get-clean-data-1\"><span class=\"toc-item-num\">1&nbsp;&nbsp;</span>get clean data</a></span></li><li><span><a href=\"#prepare-for-neural-network\" data-toc-modified-id=\"prepare-for-neural-network-2\"><span class=\"toc-item-num\">2&nbsp;&nbsp;</span>prepare for neural network</a></span></li><li><span><a href=\"#Pre-process-the-embeddings\" data-toc-modified-id=\"Pre-process-the-embeddings-3\"><span class=\"toc-item-num\">3&nbsp;&nbsp;</span>Pre-process the embeddings</a></span></li><li><span><a href=\"#Define-a-model\" data-toc-modified-id=\"Define-a-model-4\"><span class=\"toc-item-num\">4&nbsp;&nbsp;</span>Define a model</a></span></li><li><span><a href=\"#predict\" data-toc-modified-id=\"predict-5\"><span class=\"toc-item-num\">5&nbsp;&nbsp;</span>predict</a></span></li><li><span><a href=\"#test\" data-toc-modified-id=\"test-6\"><span class=\"toc-item-num\">6&nbsp;&nbsp;</span>test</a></span></li><li><span><a href=\"#test\" data-toc-modified-id=\"test-7\"><span class=\"toc-item-num\">7&nbsp;&nbsp;</span>test</a></span></li></ul></div>"
   ]
  },
  {
   "cell_type": "code",
   "execution_count": 1,
   "metadata": {},
   "outputs": [
    {
     "data": {
      "text/html": [
       "<style>.container { width:100% !important; }</style>"
      ],
      "text/plain": [
       "<IPython.core.display.HTML object>"
      ]
     },
     "metadata": {},
     "output_type": "display_data"
    }
   ],
   "source": [
    "## Pre-setting\n",
    "# automatically adjust the width of the notebook code cell\n",
    "from IPython.core.display import display, HTML\n",
    "display(HTML(\"<style>.container { width:100% !important; }</style>\"))\n",
    "# if one module is changed, this line will automatically reload that module\n",
    "%load_ext autoreload\n",
    "%autoreload 2\n",
    "# display the figure in the notebook\n",
    "%matplotlib inline\n",
    "# To change the font size in acrobat\n",
    "import matplotlib as mpl\n",
    "mpl.rcParams['pdf.fonttype'] = 42"
   ]
  },
  {
   "cell_type": "code",
   "execution_count": 2,
   "metadata": {},
   "outputs": [],
   "source": [
    "## Add path\n",
    "import os\n",
    "import sys\n",
    "src_dir = os.path.abspath(os.path.join(os.pardir, 'src'))\n",
    "if src_dir not in sys.path:\n",
    "    sys.path.insert(0, src_dir)"
   ]
  },
  {
   "cell_type": "code",
   "execution_count": 3,
   "metadata": {},
   "outputs": [],
   "source": [
    "import json\n",
    "import numpy as np\n",
    "import gensim as gs\n",
    "from collections import Counter\n"
   ]
  },
  {
   "cell_type": "code",
   "execution_count": 4,
   "metadata": {},
   "outputs": [],
   "source": [
    "from sklearn.model_selection import train_test_split\n",
    "from sklearn.metrics import f1_score\n",
    "from sklearn.metrics import label_ranking_average_precision_score, label_ranking_loss\n"
   ]
  },
  {
   "cell_type": "code",
   "execution_count": 5,
   "metadata": {},
   "outputs": [],
   "source": [
    "import pandas as pd"
   ]
  },
  {
   "cell_type": "code",
   "execution_count": 6,
   "metadata": {},
   "outputs": [
    {
     "name": "stderr",
     "output_type": "stream",
     "text": [
      "Using TensorFlow backend.\n"
     ]
    }
   ],
   "source": [
    "from keras.preprocessing.text import Tokenizer\n",
    "from keras.preprocessing.sequence import pad_sequences\n",
    "# import numpy as np"
   ]
  },
  {
   "cell_type": "code",
   "execution_count": null,
   "metadata": {},
   "outputs": [],
   "source": []
  },
  {
   "cell_type": "markdown",
   "metadata": {},
   "source": [
    "## get clean data"
   ]
  },
  {
   "cell_type": "code",
   "execution_count": 7,
   "metadata": {},
   "outputs": [],
   "source": [
    "email_6p2_folder = os.path.abspath(os.path.join(os.pardir, 'data', 's2021_lumen_clean_data'))\n",
    "email_6p2_file = 's2021_06_20_01_lumen_clean_doc_sia_liwc_classify.csv'\n",
    "email_6p2_location = os.path.join(email_6p2_folder, email_6p2_file)"
   ]
  },
  {
   "cell_type": "code",
   "execution_count": 8,
   "metadata": {},
   "outputs": [],
   "source": [
    "email_6p2_df = pd.read_csv(email_6p2_location)"
   ]
  },
  {
   "cell_type": "code",
   "execution_count": null,
   "metadata": {},
   "outputs": [],
   "source": []
  },
  {
   "cell_type": "code",
   "execution_count": 9,
   "metadata": {},
   "outputs": [],
   "source": [
    "doc_list = list(email_6p2_df.nostop_stem_doc)"
   ]
  },
  {
   "cell_type": "code",
   "execution_count": 10,
   "metadata": {},
   "outputs": [
    {
     "data": {
      "text/plain": [
       "['Authority or Expertise/Source Credibility',\n",
       " 'Commitment',\n",
       " 'Liking',\n",
       " 'Social Proof',\n",
       " 'Scarcity/Urgency/Opportunity',\n",
       " 'Gain framing',\n",
       " 'Loss framing']"
      ]
     },
     "execution_count": 10,
     "metadata": {},
     "output_type": "execute_result"
    }
   ],
   "source": [
    "influence_list = [\n",
    "    'Authority or Expertise/Source Credibility',\n",
    "    'Commitment',\n",
    "    'Liking',\n",
    "    'Social Proof',\n",
    "    'Scarcity/Urgency/Opportunity',\n",
    "    'Gain framing',\n",
    "    'Loss framing',\n",
    "]\n",
    "\n",
    "influence_list"
   ]
  },
  {
   "cell_type": "code",
   "execution_count": 11,
   "metadata": {},
   "outputs": [],
   "source": [
    "bi_weapon_array = email_6p2_df[influence_list].values.astype(int)"
   ]
  },
  {
   "cell_type": "code",
   "execution_count": 12,
   "metadata": {},
   "outputs": [
    {
     "data": {
      "text/plain": [
       "(2771, (2771, 7))"
      ]
     },
     "execution_count": 12,
     "metadata": {},
     "output_type": "execute_result"
    }
   ],
   "source": [
    "len(doc_list), bi_weapon_array.shape"
   ]
  },
  {
   "cell_type": "code",
   "execution_count": 13,
   "metadata": {},
   "outputs": [
    {
     "data": {
      "text/plain": [
       "array([2110, 1461,  565,  323,  779,  390,  211])"
      ]
     },
     "execution_count": 13,
     "metadata": {},
     "output_type": "execute_result"
    }
   ],
   "source": [
    "bi_weapon_array.sum(axis=0)"
   ]
  },
  {
   "cell_type": "raw",
   "metadata": {},
   "source": [
    "[authority, commitment, liking, scarcity, social, omission]"
   ]
  },
  {
   "cell_type": "code",
   "execution_count": 14,
   "metadata": {
    "scrolled": true
   },
   "outputs": [
    {
     "data": {
      "text/plain": [
       "['cours want rememb posit thing done last impact make individu peopl two six annual presid leadership award given student cockrel school engin presid leadership award grant black student blackmattersu com blackmattersu com http blackmattersu com presid leadership award grant black student',\n",
       " 'peopl toler two homosexu see leav togeth next day smile hold hand tenderli embrac one anoth forgiven departur pleasur unaccept wake happi michel foucault philosoph social critic lgbt homophobia foucault societi queerquot',\n",
       " 'popey fri chicken fantast new yorker food writer helen rosner wrote aug meat flavor juici encas spiki golden sea urchin batter surprisingli light uncommonli crispi right amount cocain least recycl imag recent post facebook would believ imag look like news stori headlin popey manag arrest allegedli dip chicken cocain base flour increas busi sale given recent craze chain new chicken sandwich one might actual believ headlin fake popey nation aug post flag part facebook effort combat fals news misinform news feed read partnership facebook search headlin find com describ prank websit intend fun crop imag appear facebook word prank three laugh cri emoji imag clown word got own stamp hat']"
      ]
     },
     "execution_count": 14,
     "metadata": {},
     "output_type": "execute_result"
    }
   ],
   "source": [
    "doc_list[5:8]"
   ]
  },
  {
   "cell_type": "code",
   "execution_count": 15,
   "metadata": {},
   "outputs": [],
   "source": [
    "doc_length_list = [len(i.split()) for i in doc_list]"
   ]
  },
  {
   "cell_type": "code",
   "execution_count": 16,
   "metadata": {},
   "outputs": [
    {
     "data": {
      "text/plain": [
       "(66.20064958498737,\n",
       " 66.0,\n",
       " 25.51259012882596,\n",
       " Counter({69: 45,\n",
       "          99: 22,\n",
       "          76: 39,\n",
       "          90: 34,\n",
       "          58: 36,\n",
       "          41: 54,\n",
       "          32: 30,\n",
       "          110: 13,\n",
       "          26: 11,\n",
       "          19: 7,\n",
       "          96: 22,\n",
       "          11: 12,\n",
       "          31: 10,\n",
       "          103: 19,\n",
       "          52: 26,\n",
       "          77: 45,\n",
       "          15: 7,\n",
       "          64: 28,\n",
       "          89: 32,\n",
       "          50: 33,\n",
       "          107: 12,\n",
       "          95: 26,\n",
       "          73: 41,\n",
       "          63: 35,\n",
       "          36: 28,\n",
       "          54: 28,\n",
       "          43: 64,\n",
       "          118: 7,\n",
       "          21: 9,\n",
       "          71: 36,\n",
       "          74: 50,\n",
       "          84: 44,\n",
       "          53: 41,\n",
       "          119: 6,\n",
       "          78: 50,\n",
       "          44: 38,\n",
       "          24: 2,\n",
       "          72: 43,\n",
       "          92: 17,\n",
       "          45: 43,\n",
       "          35: 22,\n",
       "          113: 11,\n",
       "          93: 17,\n",
       "          57: 33,\n",
       "          49: 27,\n",
       "          111: 9,\n",
       "          124: 10,\n",
       "          60: 32,\n",
       "          79: 36,\n",
       "          66: 43,\n",
       "          42: 62,\n",
       "          68: 39,\n",
       "          62: 24,\n",
       "          65: 40,\n",
       "          33: 15,\n",
       "          91: 27,\n",
       "          105: 13,\n",
       "          97: 24,\n",
       "          80: 26,\n",
       "          98: 15,\n",
       "          86: 27,\n",
       "          51: 35,\n",
       "          30: 12,\n",
       "          122: 8,\n",
       "          109: 11,\n",
       "          101: 15,\n",
       "          115: 9,\n",
       "          55: 22,\n",
       "          59: 21,\n",
       "          125: 2,\n",
       "          37: 40,\n",
       "          28: 6,\n",
       "          87: 28,\n",
       "          40: 56,\n",
       "          46: 38,\n",
       "          82: 42,\n",
       "          88: 26,\n",
       "          102: 17,\n",
       "          61: 42,\n",
       "          23: 3,\n",
       "          123: 4,\n",
       "          100: 25,\n",
       "          85: 36,\n",
       "          106: 14,\n",
       "          47: 41,\n",
       "          94: 24,\n",
       "          167: 1,\n",
       "          67: 36,\n",
       "          75: 44,\n",
       "          38: 31,\n",
       "          81: 35,\n",
       "          22: 7,\n",
       "          83: 34,\n",
       "          104: 9,\n",
       "          34: 17,\n",
       "          70: 36,\n",
       "          29: 7,\n",
       "          14: 13,\n",
       "          112: 14,\n",
       "          13: 12,\n",
       "          48: 23,\n",
       "          56: 28,\n",
       "          164: 1,\n",
       "          117: 5,\n",
       "          39: 42,\n",
       "          116: 6,\n",
       "          12: 10,\n",
       "          147: 2,\n",
       "          131: 2,\n",
       "          27: 10,\n",
       "          108: 9,\n",
       "          121: 2,\n",
       "          10: 11,\n",
       "          141: 1,\n",
       "          16: 6,\n",
       "          120: 3,\n",
       "          114: 15,\n",
       "          17: 5,\n",
       "          25: 4,\n",
       "          18: 3,\n",
       "          127: 2,\n",
       "          136: 1,\n",
       "          145: 1,\n",
       "          20: 3,\n",
       "          126: 2,\n",
       "          142: 1,\n",
       "          128: 2,\n",
       "          224: 1}))"
      ]
     },
     "execution_count": 16,
     "metadata": {},
     "output_type": "execute_result"
    }
   ],
   "source": [
    "np.mean(doc_length_list), np.median(doc_length_list), np.std(doc_length_list), Counter(doc_length_list)"
   ]
  },
  {
   "cell_type": "code",
   "execution_count": null,
   "metadata": {},
   "outputs": [],
   "source": []
  },
  {
   "cell_type": "markdown",
   "metadata": {},
   "source": [
    "## prepare for neural network"
   ]
  },
  {
   "cell_type": "code",
   "execution_count": 17,
   "metadata": {},
   "outputs": [],
   "source": [
    "maxlen = 150  # We will cut reviews after 100 words\n",
    "max_words = 10000  # We will only consider the top 10,000 words in the dataset\n",
    "\n",
    "\n",
    "tokenizer = Tokenizer(num_words=max_words)\n",
    "tokenizer.fit_on_texts(doc_list)"
   ]
  },
  {
   "cell_type": "code",
   "execution_count": 18,
   "metadata": {},
   "outputs": [
    {
     "name": "stdout",
     "output_type": "stream",
     "text": [
      "Found 14938 unique tokens.\n"
     ]
    }
   ],
   "source": [
    "word_index = tokenizer.word_index\n",
    "print('Found %s unique tokens.' % len(word_index))"
   ]
  },
  {
   "cell_type": "code",
   "execution_count": 19,
   "metadata": {},
   "outputs": [],
   "source": [
    "sequences = tokenizer.texts_to_sequences(doc_list)"
   ]
  },
  {
   "cell_type": "code",
   "execution_count": 20,
   "metadata": {},
   "outputs": [
    {
     "data": {
      "text/plain": [
       "2771"
      ]
     },
     "execution_count": 20,
     "metadata": {},
     "output_type": "execute_result"
    }
   ],
   "source": [
    "len(sequences)"
   ]
  },
  {
   "cell_type": "code",
   "execution_count": 21,
   "metadata": {},
   "outputs": [],
   "source": [
    "data_array = pad_sequences(sequences, maxlen=maxlen)"
   ]
  },
  {
   "cell_type": "code",
   "execution_count": 22,
   "metadata": {},
   "outputs": [
    {
     "data": {
      "text/plain": [
       "(2771, 150)"
      ]
     },
     "execution_count": 22,
     "metadata": {},
     "output_type": "execute_result"
    }
   ],
   "source": [
    "data_array.shape"
   ]
  },
  {
   "cell_type": "code",
   "execution_count": 23,
   "metadata": {},
   "outputs": [],
   "source": [
    "data_train, data_test, label_train, label_test = train_test_split(data_array, bi_weapon_array, test_size=0.3, random_state=42)"
   ]
  },
  {
   "cell_type": "code",
   "execution_count": 24,
   "metadata": {},
   "outputs": [
    {
     "data": {
      "text/plain": [
       "(1939, 832, (1939, 7), (832, 7))"
      ]
     },
     "execution_count": 24,
     "metadata": {},
     "output_type": "execute_result"
    }
   ],
   "source": [
    "len(data_train), len(data_test), label_train.shape, label_test.shape"
   ]
  },
  {
   "cell_type": "code",
   "execution_count": null,
   "metadata": {},
   "outputs": [],
   "source": []
  },
  {
   "cell_type": "markdown",
   "metadata": {},
   "source": [
    "## Pre-process the embeddings"
   ]
  },
  {
   "cell_type": "code",
   "execution_count": 25,
   "metadata": {},
   "outputs": [
    {
     "ename": "FileNotFoundError",
     "evalue": "[Errno 2] No such file or directory: '/Users/hanyushi/projects/s02_DeceptiveCues/data/tmp_glove/glove.6B.100d.txt'",
     "output_type": "error",
     "traceback": [
      "\u001b[0;31m---------------------------------------------------------------------------\u001b[0m",
      "\u001b[0;31mFileNotFoundError\u001b[0m                         Traceback (most recent call last)",
      "\u001b[0;32m<timed exec>\u001b[0m in \u001b[0;36m<module>\u001b[0;34m\u001b[0m\n",
      "\u001b[0;31mFileNotFoundError\u001b[0m: [Errno 2] No such file or directory: '/Users/hanyushi/projects/s02_DeceptiveCues/data/tmp_glove/glove.6B.100d.txt'"
     ]
    }
   ],
   "source": [
    "%%time\n",
    "\n",
    "glove_dir = src_dir = os.path.abspath(os.path.join(os.pardir, 'data', 'tmp_glove'))\n",
    "\n",
    "\n",
    "embeddings_index = {}\n",
    "f = open(os.path.join(glove_dir, 'glove.6B.100d.txt'), 'rb')\n",
    "for line in f:\n",
    "    values = line.split()\n",
    "    word = values[0]\n",
    "    coefs = np.asarray(values[1:], dtype='float32')\n",
    "    embeddings_index[word] = coefs\n",
    "f.close()\n",
    "\n",
    "print('Found %s word vectors.' % len(embeddings_index))"
   ]
  },
  {
   "cell_type": "code",
   "execution_count": 26,
   "metadata": {},
   "outputs": [
    {
     "data": {
      "text/plain": [
       "0"
      ]
     },
     "execution_count": 26,
     "metadata": {},
     "output_type": "execute_result"
    }
   ],
   "source": [
    "len(embeddings_index.keys())"
   ]
  },
  {
   "cell_type": "code",
   "execution_count": 27,
   "metadata": {},
   "outputs": [],
   "source": [
    "embedding_dim = 100\n",
    "\n",
    "embedding_matrix = np.zeros((max_words, embedding_dim))\n",
    "for word, i in word_index.items():\n",
    "    embedding_vector = embeddings_index.get(word)\n",
    "    if i < max_words:\n",
    "        if embedding_vector is not None:\n",
    "            # Words not found in embedding index will be all-zeros.\n",
    "            embedding_matrix[i] = embedding_vector"
   ]
  },
  {
   "cell_type": "code",
   "execution_count": 28,
   "metadata": {},
   "outputs": [
    {
     "data": {
      "text/plain": [
       "(10000, 100)"
      ]
     },
     "execution_count": 28,
     "metadata": {},
     "output_type": "execute_result"
    }
   ],
   "source": [
    "embedding_matrix.shape"
   ]
  },
  {
   "cell_type": "code",
   "execution_count": null,
   "metadata": {},
   "outputs": [],
   "source": []
  },
  {
   "cell_type": "markdown",
   "metadata": {},
   "source": [
    "## Define a model"
   ]
  },
  {
   "cell_type": "code",
   "execution_count": null,
   "metadata": {},
   "outputs": [],
   "source": []
  },
  {
   "cell_type": "code",
   "execution_count": 29,
   "metadata": {
    "scrolled": false
   },
   "outputs": [
    {
     "name": "stderr",
     "output_type": "stream",
     "text": [
      "2021-06-30 06:53:05.783689: I tensorflow/core/platform/cpu_feature_guard.cc:143] Your CPU supports instructions that this TensorFlow binary was not compiled to use: AVX2 FMA\n",
      "2021-06-30 06:53:05.798310: I tensorflow/compiler/xla/service/service.cc:168] XLA service 0x7fdad225e210 initialized for platform Host (this does not guarantee that XLA will be used). Devices:\n",
      "2021-06-30 06:53:05.798335: I tensorflow/compiler/xla/service/service.cc:176]   StreamExecutor device (0): Host, Default Version\n"
     ]
    },
    {
     "name": "stdout",
     "output_type": "stream",
     "text": [
      "Model: \"sequential_1\"\n",
      "_________________________________________________________________\n",
      "Layer (type)                 Output Shape              Param #   \n",
      "=================================================================\n",
      "embedding_1 (Embedding)      (None, 150, 100)          1000000   \n",
      "_________________________________________________________________\n",
      "lstm_1 (LSTM)                (None, 150, 100)          80400     \n",
      "_________________________________________________________________\n",
      "lstm_2 (LSTM)                (None, 100)               80400     \n",
      "_________________________________________________________________\n",
      "dense_1 (Dense)              (None, 7)                 707       \n",
      "=================================================================\n",
      "Total params: 1,161,507\n",
      "Trainable params: 1,161,507\n",
      "Non-trainable params: 0\n",
      "_________________________________________________________________\n"
     ]
    }
   ],
   "source": [
    "from keras.models import Sequential\n",
    "from keras.layers import Embedding, Flatten, Dense, SpatialDropout1D, LSTM, GRU\n",
    "\n",
    "model = Sequential()\n",
    "model.add(Embedding(max_words, embedding_dim, input_length=maxlen))\n",
    "# model.add(Flatten())\n",
    "# model.add(SpatialDropout1D(0.2))\n",
    "model.add(LSTM(100, dropout=0.2, recurrent_dropout=0.2, return_sequences=True,))\n",
    "model.add(LSTM(100, dropout=0.2, recurrent_dropout=0.2))\n",
    "# model.add(Dense(10, activation='relu'))\n",
    "model.add(Dense(7, activation='sigmoid'))\n",
    "model.summary()"
   ]
  },
  {
   "cell_type": "code",
   "execution_count": 30,
   "metadata": {},
   "outputs": [],
   "source": [
    "model.layers[0].set_weights([embedding_matrix])\n",
    "model.layers[0].trainable = False"
   ]
  },
  {
   "cell_type": "code",
   "execution_count": 31,
   "metadata": {},
   "outputs": [],
   "source": [
    "model.compile(optimizer='rmsprop',\n",
    "              loss='mse',\n",
    "              metrics=['acc'])\n"
   ]
  },
  {
   "cell_type": "code",
   "execution_count": 32,
   "metadata": {},
   "outputs": [
    {
     "name": "stdout",
     "output_type": "stream",
     "text": [
      "Train on 1551 samples, validate on 388 samples\n",
      "Epoch 1/20\n",
      "1551/1551 [==============================] - 14s 9ms/step - loss: 0.1612 - acc: 0.8124 - val_loss: 0.1691 - val_acc: 0.7706\n",
      "Epoch 2/20\n",
      "1551/1551 [==============================] - 16s 10ms/step - loss: 0.1542 - acc: 0.8124 - val_loss: 0.1669 - val_acc: 0.7706\n",
      "Epoch 3/20\n",
      "1551/1551 [==============================] - 15s 10ms/step - loss: 0.1541 - acc: 0.8124 - val_loss: 0.1660 - val_acc: 0.7706\n",
      "Epoch 4/20\n",
      "1551/1551 [==============================] - 16s 10ms/step - loss: 0.1537 - acc: 0.8124 - val_loss: 0.1671 - val_acc: 0.7706\n",
      "Epoch 5/20\n",
      "1551/1551 [==============================] - 15s 9ms/step - loss: 0.1538 - acc: 0.8124 - val_loss: 0.1656 - val_acc: 0.7706\n",
      "Epoch 6/20\n",
      "1551/1551 [==============================] - 14s 9ms/step - loss: 0.1535 - acc: 0.8124 - val_loss: 0.1671 - val_acc: 0.7706\n",
      "Epoch 7/20\n",
      "1551/1551 [==============================] - 14s 9ms/step - loss: 0.1538 - acc: 0.8124 - val_loss: 0.1666 - val_acc: 0.7706\n",
      "Epoch 8/20\n",
      "1551/1551 [==============================] - 13s 8ms/step - loss: 0.1536 - acc: 0.8124 - val_loss: 0.1666 - val_acc: 0.7706\n",
      "Epoch 9/20\n",
      "1551/1551 [==============================] - 13s 8ms/step - loss: 0.1535 - acc: 0.8124 - val_loss: 0.1666 - val_acc: 0.7706\n",
      "Epoch 10/20\n",
      "1551/1551 [==============================] - 13s 8ms/step - loss: 0.1536 - acc: 0.8124 - val_loss: 0.1667 - val_acc: 0.7706\n",
      "Epoch 11/20\n",
      "1551/1551 [==============================] - 18s 11ms/step - loss: 0.1536 - acc: 0.8124 - val_loss: 0.1665 - val_acc: 0.7706\n",
      "Epoch 12/20\n",
      "1551/1551 [==============================] - 15s 10ms/step - loss: 0.1538 - acc: 0.8124 - val_loss: 0.1660 - val_acc: 0.7706\n",
      "Epoch 13/20\n",
      "1551/1551 [==============================] - 15s 10ms/step - loss: 0.1535 - acc: 0.8124 - val_loss: 0.1665 - val_acc: 0.7706\n",
      "Epoch 14/20\n",
      "1551/1551 [==============================] - 15s 9ms/step - loss: 0.1535 - acc: 0.8124 - val_loss: 0.1666 - val_acc: 0.7706\n",
      "Epoch 15/20\n",
      "1551/1551 [==============================] - 15s 10ms/step - loss: 0.1534 - acc: 0.8124 - val_loss: 0.1672 - val_acc: 0.7706\n",
      "Epoch 16/20\n",
      "1551/1551 [==============================] - 17s 11ms/step - loss: 0.1536 - acc: 0.8124 - val_loss: 0.1662 - val_acc: 0.7706\n",
      "Epoch 17/20\n",
      "1551/1551 [==============================] - 16s 10ms/step - loss: 0.1535 - acc: 0.8124 - val_loss: 0.1670 - val_acc: 0.7706\n",
      "Epoch 18/20\n",
      "1551/1551 [==============================] - 16s 10ms/step - loss: 0.1534 - acc: 0.8124 - val_loss: 0.1655 - val_acc: 0.7706\n",
      "Epoch 19/20\n",
      "1551/1551 [==============================] - 17s 11ms/step - loss: 0.1534 - acc: 0.8124 - val_loss: 0.1656 - val_acc: 0.7706\n",
      "Epoch 20/20\n",
      "1551/1551 [==============================] - 14s 9ms/step - loss: 0.1535 - acc: 0.8124 - val_loss: 0.1659 - val_acc: 0.7706\n"
     ]
    }
   ],
   "source": [
    "history = model.fit(data_train, label_train,\n",
    "                    epochs=20,\n",
    "                    batch_size=32,\n",
    "                   validation_split=.2)\n"
   ]
  },
  {
   "cell_type": "code",
   "execution_count": 33,
   "metadata": {
    "scrolled": true
   },
   "outputs": [
    {
     "data": {
      "image/png": "[encoded data removed]",
      "text/plain": [
       "<Figure size 432x288 with 1 Axes>"
      ]
     },
     "metadata": {
      "needs_background": "light"
     },
     "output_type": "display_data"
    },
    {
     "data": {
      "image/png": "[encoded data removed]",
      "text/plain": [
       "<Figure size 432x288 with 1 Axes>"
      ]
     },
     "metadata": {
      "needs_background": "light"
     },
     "output_type": "display_data"
    }
   ],
   "source": [
    "import matplotlib.pyplot as plt\n",
    "\n",
    "acc = history.history['acc']\n",
    "val_acc = history.history['val_acc']\n",
    "loss = history.history['loss']\n",
    "val_loss = history.history['val_loss']\n",
    "\n",
    "epochs = range(1, len(acc) + 1)\n",
    "\n",
    "plt.plot(epochs, acc, 'bo', label='Training acc')\n",
    "plt.plot(epochs, val_acc, 'b', label='Validation acc')\n",
    "plt.title('Training and validation accuracy')\n",
    "plt.legend()\n",
    "\n",
    "plt.figure()\n",
    "\n",
    "plt.plot(epochs, loss, 'bo', label='Training loss')\n",
    "plt.plot(epochs, val_loss, 'b', label='Validation loss')\n",
    "plt.title('Training and validation loss')\n",
    "plt.legend()\n",
    "\n",
    "plt.show()"
   ]
  },
  {
   "cell_type": "code",
   "execution_count": 34,
   "metadata": {},
   "outputs": [
    {
     "data": {
      "text/plain": [
       "17"
      ]
     },
     "execution_count": 34,
     "metadata": {},
     "output_type": "execute_result"
    }
   ],
   "source": [
    "epochs = np.argmin(val_loss)\n",
    "epochs"
   ]
  },
  {
   "cell_type": "code",
   "execution_count": 35,
   "metadata": {},
   "outputs": [
    {
     "name": "stdout",
     "output_type": "stream",
     "text": [
      "Epoch 1/17\n",
      "1939/1939 [==============================] - 18s 9ms/step - loss: 0.1561 - acc: 0.8040\n",
      "Epoch 2/17\n",
      "1939/1939 [==============================] - 18s 9ms/step - loss: 0.1560 - acc: 0.8040\n",
      "Epoch 3/17\n",
      "1939/1939 [==============================] - 18s 9ms/step - loss: 0.1560 - acc: 0.8040\n",
      "Epoch 4/17\n",
      "1939/1939 [==============================] - 21s 11ms/step - loss: 0.1560 - acc: 0.8040\n",
      "Epoch 5/17\n",
      "1939/1939 [==============================] - 18s 9ms/step - loss: 0.1559 - acc: 0.8040\n",
      "Epoch 6/17\n",
      "1939/1939 [==============================] - 18s 9ms/step - loss: 0.1560 - acc: 0.8040\n",
      "Epoch 7/17\n",
      "1939/1939 [==============================] - 19s 10ms/step - loss: 0.1560 - acc: 0.8040\n",
      "Epoch 8/17\n",
      "1939/1939 [==============================] - 20s 11ms/step - loss: 0.1560 - acc: 0.8040\n",
      "Epoch 9/17\n",
      "1939/1939 [==============================] - 18s 9ms/step - loss: 0.1559 - acc: 0.8040\n",
      "Epoch 10/17\n",
      "1939/1939 [==============================] - 20s 10ms/step - loss: 0.1560 - acc: 0.8040\n",
      "Epoch 11/17\n",
      "1939/1939 [==============================] - 20s 10ms/step - loss: 0.1559 - acc: 0.8040\n",
      "Epoch 12/17\n",
      "1939/1939 [==============================] - 19s 10ms/step - loss: 0.1560 - acc: 0.8040\n",
      "Epoch 13/17\n",
      "1939/1939 [==============================] - 19s 10ms/step - loss: 0.1559 - acc: 0.8040\n",
      "Epoch 14/17\n",
      "1939/1939 [==============================] - 18s 9ms/step - loss: 0.1559 - acc: 0.8040\n",
      "Epoch 15/17\n",
      "1939/1939 [==============================] - 20s 10ms/step - loss: 0.1559 - acc: 0.8040\n",
      "Epoch 16/17\n",
      "1939/1939 [==============================] - 21s 11ms/step - loss: 0.1559 - acc: 0.8040\n",
      "Epoch 17/17\n",
      "1939/1939 [==============================] - 22s 11ms/step - loss: 0.1558 - acc: 0.8040\n"
     ]
    }
   ],
   "source": [
    "history = model.fit(data_train, label_train,\n",
    "                    epochs=epochs,\n",
    "                    batch_size=32)\n"
   ]
  },
  {
   "cell_type": "code",
   "execution_count": null,
   "metadata": {},
   "outputs": [],
   "source": []
  },
  {
   "cell_type": "code",
   "execution_count": null,
   "metadata": {},
   "outputs": [],
   "source": []
  },
  {
   "cell_type": "code",
   "execution_count": null,
   "metadata": {},
   "outputs": [],
   "source": []
  },
  {
   "cell_type": "code",
   "execution_count": null,
   "metadata": {},
   "outputs": [],
   "source": []
  },
  {
   "cell_type": "code",
   "execution_count": 36,
   "metadata": {},
   "outputs": [],
   "source": [
    "pred = model.predict(data_test)"
   ]
  },
  {
   "cell_type": "code",
   "execution_count": 37,
   "metadata": {},
   "outputs": [
    {
     "data": {
      "text/plain": [
       "(832, 7)"
      ]
     },
     "execution_count": 37,
     "metadata": {},
     "output_type": "execute_result"
    }
   ],
   "source": [
    "pred.shape"
   ]
  },
  {
   "cell_type": "code",
   "execution_count": 38,
   "metadata": {},
   "outputs": [
    {
     "data": {
      "text/plain": [
       "array([[0.7310551 , 0.5566874 , 0.22982568, 0.13493696, 0.28360733,\n",
       "        0.12439856, 0.07481617],\n",
       "       [0.7310551 , 0.5566874 , 0.22982568, 0.13493696, 0.28360733,\n",
       "        0.12439856, 0.07481617],\n",
       "       [0.7310551 , 0.5566874 , 0.22982568, 0.13493696, 0.28360733,\n",
       "        0.12439856, 0.07481617],\n",
       "       [0.7310551 , 0.5566874 , 0.22982568, 0.13493696, 0.28360733,\n",
       "        0.12439856, 0.07481617],\n",
       "       [0.7310551 , 0.5566874 , 0.22982568, 0.13493696, 0.28360733,\n",
       "        0.12439856, 0.07481617]], dtype=float32)"
      ]
     },
     "execution_count": 38,
     "metadata": {},
     "output_type": "execute_result"
    }
   ],
   "source": [
    "pred[:5]"
   ]
  },
  {
   "cell_type": "code",
   "execution_count": 39,
   "metadata": {},
   "outputs": [],
   "source": [
    "label_test_predict = (pred >=.4) + 0"
   ]
  },
  {
   "cell_type": "code",
   "execution_count": 40,
   "metadata": {
    "scrolled": true
   },
   "outputs": [
    {
     "data": {
      "text/plain": [
       "array([[1, 1, 0, ..., 0, 0, 0],\n",
       "       [1, 1, 0, ..., 0, 0, 0],\n",
       "       [1, 1, 0, ..., 0, 0, 0],\n",
       "       ...,\n",
       "       [1, 1, 0, ..., 0, 0, 0],\n",
       "       [1, 1, 0, ..., 0, 0, 0],\n",
       "       [1, 1, 0, ..., 0, 0, 0]])"
      ]
     },
     "execution_count": 40,
     "metadata": {},
     "output_type": "execute_result"
    }
   ],
   "source": [
    "label_test_predict"
   ]
  },
  {
   "cell_type": "code",
   "execution_count": 41,
   "metadata": {},
   "outputs": [
    {
     "data": {
      "text/plain": [
       "(array([644, 414, 156,  93, 246, 134,  61]),\n",
       " array([832, 832,   0,   0,   0,   0,   0]))"
      ]
     },
     "execution_count": 41,
     "metadata": {},
     "output_type": "execute_result"
    }
   ],
   "source": [
    "label_test.sum(axis=0), label_test_predict.sum(axis=0)"
   ]
  },
  {
   "cell_type": "code",
   "execution_count": null,
   "metadata": {},
   "outputs": [],
   "source": []
  },
  {
   "cell_type": "code",
   "execution_count": 42,
   "metadata": {},
   "outputs": [],
   "source": [
    "y_test = label_test\n",
    "result = label_test_predict"
   ]
  },
  {
   "cell_type": "code",
   "execution_count": null,
   "metadata": {},
   "outputs": [],
   "source": []
  },
  {
   "cell_type": "markdown",
   "metadata": {},
   "source": [
    "## predict"
   ]
  },
  {
   "cell_type": "code",
   "execution_count": 43,
   "metadata": {},
   "outputs": [
    {
     "name": "stdout",
     "output_type": "stream",
     "text": [
      "F1_macro:0.2195936015769238, F1_micro:0.6201641266119577 0.6449905563186825 0.3688301282051282\n"
     ]
    }
   ],
   "source": [
    "score_macro = f1_score(y_test, result, average=\"macro\")\n",
    "score_micro = f1_score(y_test, result, average=\"micro\")\n",
    "\n",
    "score_1 = label_ranking_average_precision_score(y_test, result)\n",
    "score_2 = label_ranking_loss(y_test, result)\n",
    "print(\"F1_macro:{0}, F1_micro:{1}\".format(score_macro, score_micro), score_1, score_2)"
   ]
  },
  {
   "cell_type": "code",
   "execution_count": null,
   "metadata": {},
   "outputs": [],
   "source": []
  },
  {
   "cell_type": "code",
   "execution_count": null,
   "metadata": {},
   "outputs": [],
   "source": []
  },
  {
   "cell_type": "code",
   "execution_count": null,
   "metadata": {},
   "outputs": [],
   "source": []
  },
  {
   "cell_type": "code",
   "execution_count": null,
   "metadata": {},
   "outputs": [],
   "source": []
  },
  {
   "cell_type": "markdown",
   "metadata": {},
   "source": [
    "## test"
   ]
  },
  {
   "cell_type": "code",
   "execution_count": 44,
   "metadata": {},
   "outputs": [
    {
     "name": "stdout",
     "output_type": "stream",
     "text": [
      "F1_macro:0.045112781954887216, F1_micro:0.12093023255813955 0.3877461080586073 0.8845753205128205\n"
     ]
    }
   ],
   "source": [
    "random_result = np.zeros(y_test.shape)\n",
    "random_result[:, 2] = 1\n",
    "\n",
    "score_macro = f1_score(y_test, random_result, average=\"macro\")\n",
    "score_micro = f1_score(y_test, random_result, average=\"micro\")\n",
    "\n",
    "score_1 = label_ranking_average_precision_score(y_test, random_result)\n",
    "score_2 = label_ranking_loss(y_test, random_result)\n",
    "print(\"F1_macro:{0}, F1_micro:{1}\".format(score_macro, score_micro), score_1, score_2)"
   ]
  },
  {
   "cell_type": "code",
   "execution_count": 45,
   "metadata": {},
   "outputs": [
    {
     "name": "stdout",
     "output_type": "stream",
     "text": [
      "F1_macro:0.3286362352411046, F1_micro:0.3797303175293606 0.4049572172619048 0.7054687500000001\n"
     ]
    }
   ],
   "source": [
    "random_result = np.random.randint(2, size=y_test.shape)\n",
    "\n",
    "score_macro = f1_score(y_test, random_result, average=\"macro\")\n",
    "score_micro = f1_score(y_test, random_result, average=\"micro\")\n",
    "\n",
    "score_1 = label_ranking_average_precision_score(y_test, random_result)\n",
    "score_2 = label_ranking_loss(y_test, random_result)\n",
    "print(\"F1_macro:{0}, F1_micro:{1}\".format(score_macro, score_micro), score_1, score_2)"
   ]
  },
  {
   "cell_type": "code",
   "execution_count": 46,
   "metadata": {
    "scrolled": true
   },
   "outputs": [
    {
     "name": "stdout",
     "output_type": "stream",
     "text": [
      "F1_macro:0.3726696982210459, F1_micro:0.4724035608308605 0.37157261141636155 0.7927684294871795\n"
     ]
    }
   ],
   "source": [
    "random_result = np.ones(y_test.shape)\n",
    "random_result[:, 2] = 0\n",
    "\n",
    "score_macro = f1_score(y_test, random_result, average=\"macro\")\n",
    "score_micro = f1_score(y_test, random_result, average=\"micro\")\n",
    "\n",
    "score_1 = label_ranking_average_precision_score(y_test, random_result)\n",
    "score_2 = label_ranking_loss(y_test, random_result)\n",
    "print(\"F1_macro:{0}, F1_micro:{1}\".format(score_macro, score_micro), score_1, score_2)"
   ]
  },
  {
   "cell_type": "code",
   "execution_count": 47,
   "metadata": {},
   "outputs": [
    {
     "name": "stdout",
     "output_type": "stream",
     "text": [
      "F1_macro:0.4177824801759331, F1_micro:0.46170100369783407 0.3458104395604389 0.953125\n"
     ]
    }
   ],
   "source": [
    "random_result = np.ones(y_test.shape)\n",
    "\n",
    "\n",
    "score_macro = f1_score(y_test, random_result, average=\"macro\")\n",
    "score_micro = f1_score(y_test, random_result, average=\"micro\")\n",
    "\n",
    "score_1 = label_ranking_average_precision_score(y_test, random_result)\n",
    "score_2 = label_ranking_loss(y_test, random_result)\n",
    "print(\"F1_macro:{0}, F1_micro:{1}\".format(score_macro, score_micro), score_1, score_2)"
   ]
  },
  {
   "cell_type": "code",
   "execution_count": null,
   "metadata": {},
   "outputs": [],
   "source": []
  },
  {
   "cell_type": "markdown",
   "metadata": {},
   "source": [
    "## test"
   ]
  },
  {
   "cell_type": "code",
   "execution_count": 48,
   "metadata": {},
   "outputs": [
    {
     "data": {
      "text/plain": [
       "1"
      ]
     },
     "execution_count": 48,
     "metadata": {},
     "output_type": "execute_result"
    }
   ],
   "source": [
    "1"
   ]
  },
  {
   "cell_type": "code",
   "execution_count": null,
   "metadata": {},
   "outputs": [],
   "source": []
  },
  {
   "cell_type": "code",
   "execution_count": null,
   "metadata": {},
   "outputs": [],
   "source": [
    "\n",
    "\n",
    "\n",
    "\n"
   ]
  }
 ],
 "metadata": {
  "kernelspec": {
   "display_name": "Python 3 (ipykernel)",
   "language": "python",
   "name": "python3"
  },
  "language_info": {
   "codemirror_mode": {
    "name": "ipython",
    "version": 3
   },
   "file_extension": ".py",
   "mimetype": "text/x-python",
   "name": "python",
   "nbconvert_exporter": "python",
   "pygments_lexer": "ipython3",
   "version": "3.8.0"
  },
  "toc": {
   "base_numbering": 1,
   "nav_menu": {},
   "number_sections": true,
   "sideBar": true,
   "skip_h1_title": true,
   "title_cell": "Table of Contents - test",
   "title_sidebar": "Contents - test",
   "toc_cell": true,
   "toc_position": {
    "height": "calc(100% - 180px)",
    "left": "10px",
    "top": "150px",
    "width": "165px"
   },
   "toc_section_display": true,
   "toc_window_display": true
  }
 },
 "nbformat": 4,
 "nbformat_minor": 1
}
