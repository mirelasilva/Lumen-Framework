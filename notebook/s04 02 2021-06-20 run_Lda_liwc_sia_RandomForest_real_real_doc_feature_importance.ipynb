{
 "cells": [
  {
   "cell_type": "markdown",
   "metadata": {
    "toc": true
   },
   "source": [
    "<h1>Table of Contents<span class=\"tocSkip\"></span></h1>\n",
    "<div class=\"toc\"><ul class=\"toc-item\"><li><span><a href=\"#packages\" data-toc-modified-id=\"packages-1\"><span class=\"toc-item-num\">1&nbsp;&nbsp;</span>packages</a></span></li><li><span><a href=\"#get-clean-data\" data-toc-modified-id=\"get-clean-data-2\"><span class=\"toc-item-num\">2&nbsp;&nbsp;</span>get clean data</a></span><ul class=\"toc-item\"><li><span><a href=\"#get-raw-data\" data-toc-modified-id=\"get-raw-data-2.1\"><span class=\"toc-item-num\">2.1&nbsp;&nbsp;</span>get raw data</a></span></li><li><span><a href=\"#generate-df_liwc_sia\" data-toc-modified-id=\"generate-df_liwc_sia-2.2\"><span class=\"toc-item-num\">2.2&nbsp;&nbsp;</span>generate df_liwc_sia</a></span></li></ul></li><li><span><a href=\"#tokenize-text-data\" data-toc-modified-id=\"tokenize-text-data-3\"><span class=\"toc-item-num\">3&nbsp;&nbsp;</span>tokenize text data</a></span><ul class=\"toc-item\"><li><span><a href=\"#prepare-data\" data-toc-modified-id=\"prepare-data-3.1\"><span class=\"toc-item-num\">3.1&nbsp;&nbsp;</span>prepare data</a></span></li><li><span><a href=\"#tokenize-text-with-gensim\" data-toc-modified-id=\"tokenize-text-with-gensim-3.2\"><span class=\"toc-item-num\">3.2&nbsp;&nbsp;</span>tokenize text with gensim</a></span></li></ul></li><li><span><a href=\"#get-bi_weapon_array\" data-toc-modified-id=\"get-bi_weapon_array-4\"><span class=\"toc-item-num\">4&nbsp;&nbsp;</span>get <code>bi_weapon_array</code></a></span></li><li><span><a href=\"#cross-validation-&amp;-grid-search\" data-toc-modified-id=\"cross-validation-&amp;-grid-search-5\"><span class=\"toc-item-num\">5&nbsp;&nbsp;</span>cross validation &amp; grid search</a></span><ul class=\"toc-item\"><li><span><a href=\"#optimal-run:-train-the-model-with-all-documents\" data-toc-modified-id=\"optimal-run:-train-the-model-with-all-documents-5.1\"><span class=\"toc-item-num\">5.1&nbsp;&nbsp;</span>optimal run: train the model with all documents</a></span></li><li><span><a href=\"#get-feature-importance\" data-toc-modified-id=\"get-feature-importance-5.2\"><span class=\"toc-item-num\">5.2&nbsp;&nbsp;</span>get feature importance</a></span></li><li><span><a href=\"#pick-some-topics\" data-toc-modified-id=\"pick-some-topics-5.3\"><span class=\"toc-item-num\">5.3&nbsp;&nbsp;</span>pick some topics</a></span></li></ul></li><li><span><a href=\"#test\" data-toc-modified-id=\"test-6\"><span class=\"toc-item-num\">6&nbsp;&nbsp;</span>test</a></span></li></ul></div>"
   ]
  },
  {
   "cell_type": "code",
   "execution_count": 1,
   "metadata": {},
   "outputs": [],
   "source": [
    "## Pre-setting\n",
    "# automatically adjust the width of the notebook code cell\n",
    "# from IPython.core.display import display, HTML\n",
    "# display(HTML(\"<style>.container { width:100% !important; }</style>\"))\n",
    "# if one module is changed, this line will automatically reload that module\n",
    "%load_ext autoreload\n",
    "%autoreload 2\n",
    "# display the figure in the notebook\n",
    "%matplotlib inline\n",
    "# To change the font size in acrobat\n",
    "import matplotlib as mpl\n",
    "mpl.rcParams['pdf.fonttype'] = 42"
   ]
  },
  {
   "cell_type": "markdown",
   "metadata": {},
   "source": [
    "## packages"
   ]
  },
  {
   "cell_type": "code",
   "execution_count": 2,
   "metadata": {},
   "outputs": [],
   "source": [
    "## Add path\n",
    "import os\n",
    "import sys\n",
    "src_dir = os.path.abspath(os.path.join(os.pardir, 'src'))\n",
    "if src_dir not in sys.path:\n",
    "    sys.path.insert(0, src_dir)"
   ]
  },
  {
   "cell_type": "code",
   "execution_count": 3,
   "metadata": {},
   "outputs": [],
   "source": [
    "import json\n",
    "import numpy as np\n",
    "import gensim as gs\n",
    "from collections import Counter\n",
    "import itertools\n",
    "\n",
    "# from sklearn.cross_validation import train_test_split # for old version sklearn <= 0.17.1\n",
    "from sklearn.model_selection import train_test_split, KFold # for old version sklearn\n",
    "\n",
    "from gensim.models.ldamodel import LdaModel\n",
    "\n",
    "\n",
    "\n",
    "\n",
    "import pandas as pd\n",
    "pd.options.display.max_columns = 500"
   ]
  },
  {
   "cell_type": "code",
   "execution_count": 4,
   "metadata": {},
   "outputs": [],
   "source": [
    "from sklearn.metrics import f1_score\n",
    "\n",
    "from sklearn.metrics import label_ranking_average_precision_score, label_ranking_loss\n",
    "\n",
    "from sklearn.ensemble import RandomForestClassifier"
   ]
  },
  {
   "cell_type": "code",
   "execution_count": 5,
   "metadata": {},
   "outputs": [],
   "source": [
    "from evaluation.evaluation import get_label_via_training"
   ]
  },
  {
   "cell_type": "code",
   "execution_count": 6,
   "metadata": {},
   "outputs": [],
   "source": [
    "from evaluation.evaluation import get_label_via_training, doc_class_evaluation_fscore, baseline_doc_class_evaluation_fscore"
   ]
  },
  {
   "cell_type": "code",
   "execution_count": 7,
   "metadata": {},
   "outputs": [],
   "source": [
    "from obtainLDA.obtainLDA import get_ptd_from_lda"
   ]
  },
  {
   "cell_type": "code",
   "execution_count": 8,
   "metadata": {},
   "outputs": [],
   "source": [
    "from obtainLDA.lda_liwc_sia_learn import run_lda_liwc_sia_rf"
   ]
  },
  {
   "cell_type": "code",
   "execution_count": null,
   "metadata": {},
   "outputs": [],
   "source": []
  },
  {
   "cell_type": "markdown",
   "metadata": {},
   "source": [
    "## get clean data"
   ]
  },
  {
   "cell_type": "markdown",
   "metadata": {},
   "source": [
    "### get raw data"
   ]
  },
  {
   "cell_type": "code",
   "execution_count": 9,
   "metadata": {},
   "outputs": [],
   "source": [
    "email_6p2_folder = os.path.abspath(os.path.join(os.pardir, 'data', 's2021_lumen_clean_data'))\n",
    "email_6p2_file = 's2021_06_20_01_lumen_clean_doc_sia_liwc_classify.csv'\n",
    "email_6p2_location = os.path.join(email_6p2_folder, email_6p2_file)"
   ]
  },
  {
   "cell_type": "code",
   "execution_count": 10,
   "metadata": {},
   "outputs": [],
   "source": [
    "email_6p2_df = pd.read_csv(email_6p2_location)"
   ]
  },
  {
   "cell_type": "code",
   "execution_count": null,
   "metadata": {},
   "outputs": [],
   "source": []
  },
  {
   "cell_type": "markdown",
   "metadata": {},
   "source": [
    "### generate df_liwc_sia"
   ]
  },
  {
   "cell_type": "code",
   "execution_count": 11,
   "metadata": {
    "scrolled": true
   },
   "outputs": [
    {
     "data": {
      "text/plain": [
       "['posemo_liwc',\n",
       " 'negemo_liwc',\n",
       " 'anx_liwc',\n",
       " 'anger_liwc',\n",
       " 'sad_liwc',\n",
       " 'reward_liwc',\n",
       " 'risk_liwc',\n",
       " 'time_liwc',\n",
       " 'money_liwc']"
      ]
     },
     "execution_count": 11,
     "metadata": {},
     "output_type": "execute_result"
    }
   ],
   "source": [
    "[i for i in email_6p2_df.columns if '_liwc' in i]"
   ]
  },
  {
   "cell_type": "code",
   "execution_count": 12,
   "metadata": {},
   "outputs": [
    {
     "data": {
      "text/plain": [
       "['pos_sia', 'compound_sia', 'neu_sia', 'neg_sia']"
      ]
     },
     "execution_count": 12,
     "metadata": {},
     "output_type": "execute_result"
    }
   ],
   "source": [
    "[i for i in email_6p2_df.columns if '_sia' in i]"
   ]
  },
  {
   "cell_type": "code",
   "execution_count": 13,
   "metadata": {},
   "outputs": [
    {
     "data": {
      "text/plain": [
       "7"
      ]
     },
     "execution_count": 13,
     "metadata": {},
     "output_type": "execute_result"
    }
   ],
   "source": [
    "liwc_list = ['anx_liwc', 'anger_liwc', 'sad_liwc', 'reward_liwc', 'risk_liwc', 'time_liwc', 'money_liwc']\n",
    "len(liwc_list)"
   ]
  },
  {
   "cell_type": "code",
   "execution_count": 14,
   "metadata": {},
   "outputs": [
    {
     "data": {
      "text/plain": [
       "2"
      ]
     },
     "execution_count": 14,
     "metadata": {},
     "output_type": "execute_result"
    }
   ],
   "source": [
    "sia_list = ['pos_sia', 'neg_sia']\n",
    "len(sia_list)"
   ]
  },
  {
   "cell_type": "code",
   "execution_count": 15,
   "metadata": {},
   "outputs": [
    {
     "data": {
      "text/plain": [
       "(['anx_liwc',\n",
       "  'anger_liwc',\n",
       "  'sad_liwc',\n",
       "  'reward_liwc',\n",
       "  'risk_liwc',\n",
       "  'time_liwc',\n",
       "  'money_liwc',\n",
       "  'pos_sia',\n",
       "  'neg_sia'],\n",
       " 9)"
      ]
     },
     "execution_count": 15,
     "metadata": {},
     "output_type": "execute_result"
    }
   ],
   "source": [
    "liwc_sia_list = liwc_list + sia_list\n",
    "liwc_sia_list, len(liwc_sia_list)"
   ]
  },
  {
   "cell_type": "code",
   "execution_count": 16,
   "metadata": {},
   "outputs": [],
   "source": [
    "for tmp_liwc in liwc_list:\n",
    "    email_6p2_df[tmp_liwc] = email_6p2_df[tmp_liwc] / email_6p2_df.nostop_stem_doc_len * 100"
   ]
  },
  {
   "cell_type": "code",
   "execution_count": 17,
   "metadata": {},
   "outputs": [
    {
     "data": {
      "text/html": [
       "<div>\n",
       "<style scoped>\n",
       "    .dataframe tbody tr th:only-of-type {\n",
       "        vertical-align: middle;\n",
       "    }\n",
       "\n",
       "    .dataframe tbody tr th {\n",
       "        vertical-align: top;\n",
       "    }\n",
       "\n",
       "    .dataframe thead th {\n",
       "        text-align: right;\n",
       "    }\n",
       "</style>\n",
       "<table border=\"1\" class=\"dataframe\">\n",
       "  <thead>\n",
       "    <tr style=\"text-align: right;\">\n",
       "      <th></th>\n",
       "      <th>raw_text_id</th>\n",
       "      <th>raw_text</th>\n",
       "      <th>text_type</th>\n",
       "      <th>nostop_stem_doc</th>\n",
       "      <th>nostop_stem_doc_len</th>\n",
       "      <th>clean_doc</th>\n",
       "      <th>clean_doc_len</th>\n",
       "      <th>pos_sia</th>\n",
       "      <th>compound_sia</th>\n",
       "      <th>neu_sia</th>\n",
       "      <th>neg_sia</th>\n",
       "      <th>posemo_liwc</th>\n",
       "      <th>negemo_liwc</th>\n",
       "      <th>anx_liwc</th>\n",
       "      <th>anger_liwc</th>\n",
       "      <th>sad_liwc</th>\n",
       "      <th>reward_liwc</th>\n",
       "      <th>risk_liwc</th>\n",
       "      <th>time_liwc</th>\n",
       "      <th>money_liwc</th>\n",
       "      <th>Authority or Expertise/Source Credibility</th>\n",
       "      <th>Blame/guilt</th>\n",
       "      <th>Commitment</th>\n",
       "      <th>Commitment- Call to Action</th>\n",
       "      <th>Commitment- Indignation</th>\n",
       "      <th>Emphasis</th>\n",
       "      <th>Gain framing</th>\n",
       "      <th>Liking</th>\n",
       "      <th>Loss framing</th>\n",
       "      <th>Objectivity</th>\n",
       "      <th>Reciprocation</th>\n",
       "      <th>Scarcity/Urgency/Opportunity</th>\n",
       "      <th>Social Proof</th>\n",
       "      <th>Social Proof- Admonition</th>\n",
       "      <th>Subjectivity</th>\n",
       "    </tr>\n",
       "  </thead>\n",
       "  <tbody>\n",
       "    <tr>\n",
       "      <th>0</th>\n",
       "      <td>0</td>\n",
       "      <td>\"A Baker Swept By,\" by Edward Hirsch Audio: Re...</td>\n",
       "      <td>news left</td>\n",
       "      <td>baker swept edward hirsch audio read author al...</td>\n",
       "      <td>69</td>\n",
       "      <td>a baker swept by by edward hirsch audio read b...</td>\n",
       "      <td>137</td>\n",
       "      <td>0.075</td>\n",
       "      <td>0.7506</td>\n",
       "      <td>0.905</td>\n",
       "      <td>0.020</td>\n",
       "      <td>4</td>\n",
       "      <td>1</td>\n",
       "      <td>0.000000</td>\n",
       "      <td>0.0</td>\n",
       "      <td>1.449275</td>\n",
       "      <td>0.000000</td>\n",
       "      <td>1.449275</td>\n",
       "      <td>20.289855</td>\n",
       "      <td>0.000000</td>\n",
       "      <td>0</td>\n",
       "      <td>0</td>\n",
       "      <td>0</td>\n",
       "      <td>0</td>\n",
       "      <td>0</td>\n",
       "      <td>0</td>\n",
       "      <td>0</td>\n",
       "      <td>0</td>\n",
       "      <td>0</td>\n",
       "      <td>0</td>\n",
       "      <td>0</td>\n",
       "      <td>1</td>\n",
       "      <td>0</td>\n",
       "      <td>0</td>\n",
       "      <td>1</td>\n",
       "    </tr>\n",
       "    <tr>\n",
       "      <th>1</th>\n",
       "      <td>1</td>\n",
       "      <td>\"Get Out\" Won’t Have A 100% Rating On Rotten T...</td>\n",
       "      <td>news left</td>\n",
       "      <td>get rate rotten tomato ever fact jordan peel g...</td>\n",
       "      <td>99</td>\n",
       "      <td>get out won t have a rating on rotten tomatoes...</td>\n",
       "      <td>194</td>\n",
       "      <td>0.115</td>\n",
       "      <td>-0.5607</td>\n",
       "      <td>0.772</td>\n",
       "      <td>0.113</td>\n",
       "      <td>6</td>\n",
       "      <td>6</td>\n",
       "      <td>0.000000</td>\n",
       "      <td>0.0</td>\n",
       "      <td>0.000000</td>\n",
       "      <td>7.070707</td>\n",
       "      <td>1.010101</td>\n",
       "      <td>10.101010</td>\n",
       "      <td>0.000000</td>\n",
       "      <td>1</td>\n",
       "      <td>1</td>\n",
       "      <td>1</td>\n",
       "      <td>0</td>\n",
       "      <td>0</td>\n",
       "      <td>0</td>\n",
       "      <td>0</td>\n",
       "      <td>1</td>\n",
       "      <td>0</td>\n",
       "      <td>1</td>\n",
       "      <td>0</td>\n",
       "      <td>0</td>\n",
       "      <td>0</td>\n",
       "      <td>0</td>\n",
       "      <td>1</td>\n",
       "    </tr>\n",
       "    <tr>\n",
       "      <th>2</th>\n",
       "      <td>3</td>\n",
       "      <td>\"Know Your Rights or Your Safety Is At Risk In...</td>\n",
       "      <td>russian ad</td>\n",
       "      <td>know right safeti risk interact polic shock vi...</td>\n",
       "      <td>76</td>\n",
       "      <td>know your rights or your safety is at risk in ...</td>\n",
       "      <td>146</td>\n",
       "      <td>0.068</td>\n",
       "      <td>-0.8751</td>\n",
       "      <td>0.790</td>\n",
       "      <td>0.142</td>\n",
       "      <td>4</td>\n",
       "      <td>2</td>\n",
       "      <td>1.315789</td>\n",
       "      <td>0.0</td>\n",
       "      <td>0.000000</td>\n",
       "      <td>2.631579</td>\n",
       "      <td>5.263158</td>\n",
       "      <td>3.947368</td>\n",
       "      <td>1.315789</td>\n",
       "      <td>0</td>\n",
       "      <td>1</td>\n",
       "      <td>1</td>\n",
       "      <td>1</td>\n",
       "      <td>1</td>\n",
       "      <td>1</td>\n",
       "      <td>0</td>\n",
       "      <td>0</td>\n",
       "      <td>0</td>\n",
       "      <td>1</td>\n",
       "      <td>0</td>\n",
       "      <td>0</td>\n",
       "      <td>1</td>\n",
       "      <td>1</td>\n",
       "      <td>1</td>\n",
       "    </tr>\n",
       "    <tr>\n",
       "      <th>3</th>\n",
       "      <td>4</td>\n",
       "      <td>\"Nancy Pelosi was drunk again today,\" begins a...</td>\n",
       "      <td>fake news</td>\n",
       "      <td>nanci pelosi drunk today begin post recent sha...</td>\n",
       "      <td>90</td>\n",
       "      <td>nancy pelosi was drunk again today begins a po...</td>\n",
       "      <td>172</td>\n",
       "      <td>0.078</td>\n",
       "      <td>-0.1027</td>\n",
       "      <td>0.831</td>\n",
       "      <td>0.092</td>\n",
       "      <td>6</td>\n",
       "      <td>1</td>\n",
       "      <td>0.000000</td>\n",
       "      <td>0.0</td>\n",
       "      <td>0.000000</td>\n",
       "      <td>5.555556</td>\n",
       "      <td>0.000000</td>\n",
       "      <td>12.222222</td>\n",
       "      <td>1.111111</td>\n",
       "      <td>1</td>\n",
       "      <td>0</td>\n",
       "      <td>0</td>\n",
       "      <td>0</td>\n",
       "      <td>0</td>\n",
       "      <td>0</td>\n",
       "      <td>0</td>\n",
       "      <td>0</td>\n",
       "      <td>0</td>\n",
       "      <td>1</td>\n",
       "      <td>0</td>\n",
       "      <td>0</td>\n",
       "      <td>1</td>\n",
       "      <td>0</td>\n",
       "      <td>1</td>\n",
       "    </tr>\n",
       "    <tr>\n",
       "      <th>4</th>\n",
       "      <td>5</td>\n",
       "      <td>\"Obama out\": POTUS ends speech with viral mic ...</td>\n",
       "      <td>news left</td>\n",
       "      <td>obama potu end speech viral mic drop presid ba...</td>\n",
       "      <td>58</td>\n",
       "      <td>obama out potus ends speech with viral mic dro...</td>\n",
       "      <td>105</td>\n",
       "      <td>0.047</td>\n",
       "      <td>0.1779</td>\n",
       "      <td>0.913</td>\n",
       "      <td>0.040</td>\n",
       "      <td>2</td>\n",
       "      <td>1</td>\n",
       "      <td>0.000000</td>\n",
       "      <td>0.0</td>\n",
       "      <td>0.000000</td>\n",
       "      <td>1.724138</td>\n",
       "      <td>0.000000</td>\n",
       "      <td>10.344828</td>\n",
       "      <td>0.000000</td>\n",
       "      <td>1</td>\n",
       "      <td>0</td>\n",
       "      <td>1</td>\n",
       "      <td>0</td>\n",
       "      <td>0</td>\n",
       "      <td>0</td>\n",
       "      <td>0</td>\n",
       "      <td>1</td>\n",
       "      <td>0</td>\n",
       "      <td>1</td>\n",
       "      <td>0</td>\n",
       "      <td>0</td>\n",
       "      <td>1</td>\n",
       "      <td>0</td>\n",
       "      <td>1</td>\n",
       "    </tr>\n",
       "  </tbody>\n",
       "</table>\n",
       "</div>"
      ],
      "text/plain": [
       "   raw_text_id                                           raw_text   text_type  \\\n",
       "0            0  \"A Baker Swept By,\" by Edward Hirsch Audio: Re...   news left   \n",
       "1            1  \"Get Out\" Won’t Have A 100% Rating On Rotten T...   news left   \n",
       "2            3  \"Know Your Rights or Your Safety Is At Risk In...  russian ad   \n",
       "3            4  \"Nancy Pelosi was drunk again today,\" begins a...   fake news   \n",
       "4            5  \"Obama out\": POTUS ends speech with viral mic ...   news left   \n",
       "\n",
       "                                     nostop_stem_doc  nostop_stem_doc_len  \\\n",
       "0  baker swept edward hirsch audio read author al...                   69   \n",
       "1  get rate rotten tomato ever fact jordan peel g...                   99   \n",
       "2  know right safeti risk interact polic shock vi...                   76   \n",
       "3  nanci pelosi drunk today begin post recent sha...                   90   \n",
       "4  obama potu end speech viral mic drop presid ba...                   58   \n",
       "\n",
       "                                           clean_doc  clean_doc_len  pos_sia  \\\n",
       "0  a baker swept by by edward hirsch audio read b...            137    0.075   \n",
       "1  get out won t have a rating on rotten tomatoes...            194    0.115   \n",
       "2  know your rights or your safety is at risk in ...            146    0.068   \n",
       "3  nancy pelosi was drunk again today begins a po...            172    0.078   \n",
       "4  obama out potus ends speech with viral mic dro...            105    0.047   \n",
       "\n",
       "   compound_sia  neu_sia  neg_sia  posemo_liwc  negemo_liwc  anx_liwc  \\\n",
       "0        0.7506    0.905    0.020            4            1  0.000000   \n",
       "1       -0.5607    0.772    0.113            6            6  0.000000   \n",
       "2       -0.8751    0.790    0.142            4            2  1.315789   \n",
       "3       -0.1027    0.831    0.092            6            1  0.000000   \n",
       "4        0.1779    0.913    0.040            2            1  0.000000   \n",
       "\n",
       "   anger_liwc  sad_liwc  reward_liwc  risk_liwc  time_liwc  money_liwc  \\\n",
       "0         0.0  1.449275     0.000000   1.449275  20.289855    0.000000   \n",
       "1         0.0  0.000000     7.070707   1.010101  10.101010    0.000000   \n",
       "2         0.0  0.000000     2.631579   5.263158   3.947368    1.315789   \n",
       "3         0.0  0.000000     5.555556   0.000000  12.222222    1.111111   \n",
       "4         0.0  0.000000     1.724138   0.000000  10.344828    0.000000   \n",
       "\n",
       "   Authority or Expertise/Source Credibility  Blame/guilt  Commitment  \\\n",
       "0                                          0            0           0   \n",
       "1                                          1            1           1   \n",
       "2                                          0            1           1   \n",
       "3                                          1            0           0   \n",
       "4                                          1            0           1   \n",
       "\n",
       "   Commitment- Call to Action  Commitment- Indignation  Emphasis  \\\n",
       "0                           0                        0         0   \n",
       "1                           0                        0         0   \n",
       "2                           1                        1         1   \n",
       "3                           0                        0         0   \n",
       "4                           0                        0         0   \n",
       "\n",
       "   Gain framing  Liking  Loss framing  Objectivity  Reciprocation  \\\n",
       "0             0       0             0            0              0   \n",
       "1             0       1             0            1              0   \n",
       "2             0       0             0            1              0   \n",
       "3             0       0             0            1              0   \n",
       "4             0       1             0            1              0   \n",
       "\n",
       "   Scarcity/Urgency/Opportunity  Social Proof  Social Proof- Admonition  \\\n",
       "0                             1             0                         0   \n",
       "1                             0             0                         0   \n",
       "2                             0             1                         1   \n",
       "3                             0             1                         0   \n",
       "4                             0             1                         0   \n",
       "\n",
       "   Subjectivity  \n",
       "0             1  \n",
       "1             1  \n",
       "2             1  \n",
       "3             1  \n",
       "4             1  "
      ]
     },
     "execution_count": 17,
     "metadata": {},
     "output_type": "execute_result"
    }
   ],
   "source": [
    "email_6p2_df.head()"
   ]
  },
  {
   "cell_type": "code",
   "execution_count": 18,
   "metadata": {},
   "outputs": [],
   "source": [
    "df_liwc_sia = email_6p2_df[liwc_sia_list]"
   ]
  },
  {
   "cell_type": "code",
   "execution_count": 19,
   "metadata": {},
   "outputs": [
    {
     "name": "stdout",
     "output_type": "stream",
     "text": [
      "(2771, 9)\n"
     ]
    },
    {
     "data": {
      "text/html": [
       "<div>\n",
       "<style scoped>\n",
       "    .dataframe tbody tr th:only-of-type {\n",
       "        vertical-align: middle;\n",
       "    }\n",
       "\n",
       "    .dataframe tbody tr th {\n",
       "        vertical-align: top;\n",
       "    }\n",
       "\n",
       "    .dataframe thead th {\n",
       "        text-align: right;\n",
       "    }\n",
       "</style>\n",
       "<table border=\"1\" class=\"dataframe\">\n",
       "  <thead>\n",
       "    <tr style=\"text-align: right;\">\n",
       "      <th></th>\n",
       "      <th>anx_liwc</th>\n",
       "      <th>anger_liwc</th>\n",
       "      <th>sad_liwc</th>\n",
       "      <th>reward_liwc</th>\n",
       "      <th>risk_liwc</th>\n",
       "      <th>time_liwc</th>\n",
       "      <th>money_liwc</th>\n",
       "      <th>pos_sia</th>\n",
       "      <th>neg_sia</th>\n",
       "    </tr>\n",
       "  </thead>\n",
       "  <tbody>\n",
       "    <tr>\n",
       "      <th>0</th>\n",
       "      <td>0.000000</td>\n",
       "      <td>0.0</td>\n",
       "      <td>1.449275</td>\n",
       "      <td>0.000000</td>\n",
       "      <td>1.449275</td>\n",
       "      <td>20.289855</td>\n",
       "      <td>0.000000</td>\n",
       "      <td>0.075</td>\n",
       "      <td>0.020</td>\n",
       "    </tr>\n",
       "    <tr>\n",
       "      <th>1</th>\n",
       "      <td>0.000000</td>\n",
       "      <td>0.0</td>\n",
       "      <td>0.000000</td>\n",
       "      <td>7.070707</td>\n",
       "      <td>1.010101</td>\n",
       "      <td>10.101010</td>\n",
       "      <td>0.000000</td>\n",
       "      <td>0.115</td>\n",
       "      <td>0.113</td>\n",
       "    </tr>\n",
       "    <tr>\n",
       "      <th>2</th>\n",
       "      <td>1.315789</td>\n",
       "      <td>0.0</td>\n",
       "      <td>0.000000</td>\n",
       "      <td>2.631579</td>\n",
       "      <td>5.263158</td>\n",
       "      <td>3.947368</td>\n",
       "      <td>1.315789</td>\n",
       "      <td>0.068</td>\n",
       "      <td>0.142</td>\n",
       "    </tr>\n",
       "    <tr>\n",
       "      <th>3</th>\n",
       "      <td>0.000000</td>\n",
       "      <td>0.0</td>\n",
       "      <td>0.000000</td>\n",
       "      <td>5.555556</td>\n",
       "      <td>0.000000</td>\n",
       "      <td>12.222222</td>\n",
       "      <td>1.111111</td>\n",
       "      <td>0.078</td>\n",
       "      <td>0.092</td>\n",
       "    </tr>\n",
       "    <tr>\n",
       "      <th>4</th>\n",
       "      <td>0.000000</td>\n",
       "      <td>0.0</td>\n",
       "      <td>0.000000</td>\n",
       "      <td>1.724138</td>\n",
       "      <td>0.000000</td>\n",
       "      <td>10.344828</td>\n",
       "      <td>0.000000</td>\n",
       "      <td>0.047</td>\n",
       "      <td>0.040</td>\n",
       "    </tr>\n",
       "  </tbody>\n",
       "</table>\n",
       "</div>"
      ],
      "text/plain": [
       "   anx_liwc  anger_liwc  sad_liwc  reward_liwc  risk_liwc  time_liwc  \\\n",
       "0  0.000000         0.0  1.449275     0.000000   1.449275  20.289855   \n",
       "1  0.000000         0.0  0.000000     7.070707   1.010101  10.101010   \n",
       "2  1.315789         0.0  0.000000     2.631579   5.263158   3.947368   \n",
       "3  0.000000         0.0  0.000000     5.555556   0.000000  12.222222   \n",
       "4  0.000000         0.0  0.000000     1.724138   0.000000  10.344828   \n",
       "\n",
       "   money_liwc  pos_sia  neg_sia  \n",
       "0    0.000000    0.075    0.020  \n",
       "1    0.000000    0.115    0.113  \n",
       "2    1.315789    0.068    0.142  \n",
       "3    1.111111    0.078    0.092  \n",
       "4    0.000000    0.047    0.040  "
      ]
     },
     "execution_count": 19,
     "metadata": {},
     "output_type": "execute_result"
    }
   ],
   "source": [
    "print(df_liwc_sia.shape)\n",
    "df_liwc_sia.head()"
   ]
  },
  {
   "cell_type": "code",
   "execution_count": 20,
   "metadata": {},
   "outputs": [],
   "source": [
    "liwc_sia_array = df_liwc_sia.values"
   ]
  },
  {
   "cell_type": "code",
   "execution_count": 21,
   "metadata": {},
   "outputs": [
    {
     "data": {
      "text/plain": [
       "(2771, 9)"
      ]
     },
     "execution_count": 21,
     "metadata": {},
     "output_type": "execute_result"
    }
   ],
   "source": [
    "liwc_sia_array.shape"
   ]
  },
  {
   "cell_type": "code",
   "execution_count": 22,
   "metadata": {},
   "outputs": [
    {
     "data": {
      "text/plain": [
       "array([0.00000000e+00, 0.00000000e+00, 1.44927536e+00, 0.00000000e+00,\n",
       "       1.44927536e+00, 2.02898551e+01, 0.00000000e+00, 7.50000000e-02,\n",
       "       2.00000000e-02])"
      ]
     },
     "execution_count": 22,
     "metadata": {},
     "output_type": "execute_result"
    }
   ],
   "source": [
    "liwc_sia_array[0]"
   ]
  },
  {
   "cell_type": "code",
   "execution_count": null,
   "metadata": {},
   "outputs": [],
   "source": []
  },
  {
   "cell_type": "markdown",
   "metadata": {},
   "source": [
    "## tokenize text data"
   ]
  },
  {
   "cell_type": "markdown",
   "metadata": {},
   "source": [
    "### prepare data"
   ]
  },
  {
   "cell_type": "code",
   "execution_count": 23,
   "metadata": {},
   "outputs": [
    {
     "data": {
      "text/plain": [
       "2771"
      ]
     },
     "execution_count": 23,
     "metadata": {},
     "output_type": "execute_result"
    }
   ],
   "source": [
    "doc_list = [i.split() for i in email_6p2_df.nostop_stem_doc]\n",
    "len(doc_list)"
   ]
  },
  {
   "cell_type": "code",
   "execution_count": 24,
   "metadata": {},
   "outputs": [
    {
     "data": {
      "text/plain": [
       "(2771, [69, 99, 76, 90, 58, 41, 32, 110, 26, 19])"
      ]
     },
     "execution_count": 24,
     "metadata": {},
     "output_type": "execute_result"
    }
   ],
   "source": [
    "doc_list_lens = [len(i) for i in doc_list]\n",
    "len(doc_list_lens), doc_list_lens[:10]"
   ]
  },
  {
   "cell_type": "code",
   "execution_count": 25,
   "metadata": {},
   "outputs": [
    {
     "data": {
      "text/plain": [
       "183442"
      ]
     },
     "execution_count": 25,
     "metadata": {},
     "output_type": "execute_result"
    }
   ],
   "source": [
    "sum(doc_list_lens)"
   ]
  },
  {
   "cell_type": "code",
   "execution_count": 26,
   "metadata": {},
   "outputs": [],
   "source": [
    "all_tokens = []\n",
    "\n",
    "for i in doc_list:\n",
    "    all_tokens += i"
   ]
  },
  {
   "cell_type": "code",
   "execution_count": 27,
   "metadata": {},
   "outputs": [
    {
     "data": {
      "text/plain": [
       "(183442, 14938)"
      ]
     },
     "execution_count": 27,
     "metadata": {},
     "output_type": "execute_result"
    }
   ],
   "source": [
    "len(all_tokens), len(set(all_tokens))"
   ]
  },
  {
   "cell_type": "code",
   "execution_count": null,
   "metadata": {},
   "outputs": [],
   "source": []
  },
  {
   "cell_type": "code",
   "execution_count": 28,
   "metadata": {},
   "outputs": [],
   "source": [
    "for tmp_doc in doc_list[:500]:\n",
    "    if 'font' in tmp_doc:\n",
    "        print('*'*40)\n",
    "        print(' '.join(tmp_doc))"
   ]
  },
  {
   "cell_type": "code",
   "execution_count": null,
   "metadata": {},
   "outputs": [],
   "source": []
  },
  {
   "cell_type": "markdown",
   "metadata": {},
   "source": [
    "### tokenize text with gensim"
   ]
  },
  {
   "cell_type": "code",
   "execution_count": 29,
   "metadata": {},
   "outputs": [],
   "source": [
    "dictionary = gs.corpora.Dictionary(doc_list)"
   ]
  },
  {
   "cell_type": "code",
   "execution_count": 30,
   "metadata": {},
   "outputs": [
    {
     "data": {
      "text/plain": [
       "14938"
      ]
     },
     "execution_count": 30,
     "metadata": {},
     "output_type": "execute_result"
    }
   ],
   "source": [
    "len(dictionary.keys())"
   ]
  },
  {
   "cell_type": "code",
   "execution_count": 31,
   "metadata": {},
   "outputs": [],
   "source": [
    "corpus = [dictionary.doc2bow(text) for text in doc_list]"
   ]
  },
  {
   "cell_type": "code",
   "execution_count": 32,
   "metadata": {},
   "outputs": [
    {
     "data": {
      "text/plain": [
       "2771"
      ]
     },
     "execution_count": 32,
     "metadata": {},
     "output_type": "execute_result"
    }
   ],
   "source": [
    "len(corpus)"
   ]
  },
  {
   "cell_type": "markdown",
   "metadata": {},
   "source": [
    "## get `bi_weapon_array`"
   ]
  },
  {
   "cell_type": "raw",
   "metadata": {},
   "source": [
    "influence_list = ['authority', 'commitment', 'liking', 'social', 'scarcity', 'reward', 'loss',]"
   ]
  },
  {
   "cell_type": "code",
   "execution_count": 33,
   "metadata": {},
   "outputs": [
    {
     "data": {
      "text/plain": [
       "['Authority or Expertise/Source Credibility',\n",
       " 'Commitment',\n",
       " 'Commitment- Call to Action',\n",
       " 'Subjectivity',\n",
       " 'Gain framing',\n",
       " 'Blame/guilt',\n",
       " 'Emphasis']"
      ]
     },
     "execution_count": 33,
     "metadata": {},
     "output_type": "execute_result"
    }
   ],
   "source": [
    "# 2021-06-30\n",
    "influence_list = [\n",
    "    'Authority or Expertise/Source Credibility',\n",
    "    'Commitment',\n",
    "    'Commitment- Call to Action',\n",
    "    'Subjectivity',\n",
    "    'Gain framing',\n",
    "    'Blame/guilt',\n",
    "    'Emphasis',\n",
    "]\n",
    "\n",
    "influence_list"
   ]
  },
  {
   "cell_type": "code",
   "execution_count": 34,
   "metadata": {},
   "outputs": [],
   "source": [
    "bi_weapon_array = email_6p2_df[influence_list].values.astype(int)"
   ]
  },
  {
   "cell_type": "code",
   "execution_count": 35,
   "metadata": {},
   "outputs": [
    {
     "name": "stdout",
     "output_type": "stream",
     "text": [
      "(2771, 7)\n"
     ]
    },
    {
     "data": {
      "text/plain": [
       "array([[0, 0, 0, ..., 0, 0, 0],\n",
       "       [1, 1, 0, ..., 0, 1, 0],\n",
       "       [0, 1, 1, ..., 0, 1, 1],\n",
       "       ...,\n",
       "       [0, 0, 0, ..., 0, 0, 1],\n",
       "       [1, 1, 0, ..., 0, 0, 0],\n",
       "       [1, 0, 0, ..., 0, 0, 1]])"
      ]
     },
     "execution_count": 35,
     "metadata": {},
     "output_type": "execute_result"
    }
   ],
   "source": [
    "print(bi_weapon_array.shape)\n",
    "bi_weapon_array"
   ]
  },
  {
   "cell_type": "code",
   "execution_count": 36,
   "metadata": {},
   "outputs": [
    {
     "data": {
      "text/plain": [
       "array([0, 0, 0, 1, 0, 0, 0])"
      ]
     },
     "execution_count": 36,
     "metadata": {},
     "output_type": "execute_result"
    }
   ],
   "source": [
    "bi_weapon_array[0]"
   ]
  },
  {
   "cell_type": "code",
   "execution_count": null,
   "metadata": {},
   "outputs": [],
   "source": []
  },
  {
   "cell_type": "code",
   "execution_count": null,
   "metadata": {},
   "outputs": [],
   "source": []
  },
  {
   "cell_type": "markdown",
   "metadata": {},
   "source": [
    "## cross validation & grid search"
   ]
  },
  {
   "cell_type": "code",
   "execution_count": 37,
   "metadata": {},
   "outputs": [
    {
     "data": {
      "text/plain": [
       "2771"
      ]
     },
     "execution_count": 37,
     "metadata": {},
     "output_type": "execute_result"
    }
   ],
   "source": [
    "len(doc_list)"
   ]
  },
  {
   "cell_type": "code",
   "execution_count": 38,
   "metadata": {},
   "outputs": [
    {
     "data": {
      "text/plain": [
       "['get',\n",
       " 'rate',\n",
       " 'rotten',\n",
       " 'tomato',\n",
       " 'ever',\n",
       " 'fact',\n",
       " 'jordan',\n",
       " 'peel',\n",
       " 'get',\n",
       " 'one',\n",
       " 'film',\n",
       " 'thriller',\n",
       " 'sit',\n",
       " 'impress',\n",
       " 'fresh',\n",
       " 'rotten',\n",
       " 'tomato',\n",
       " 'one',\n",
       " 'point',\n",
       " 'film',\n",
       " 'held',\n",
       " 'steadi',\n",
       " 'fresh',\n",
       " 'score',\n",
       " 'came',\n",
       " 'halt',\n",
       " 'one',\n",
       " 'review',\n",
       " 'rip',\n",
       " 'project',\n",
       " 'nation',\n",
       " 'review',\n",
       " 'armond',\n",
       " 'white',\n",
       " 'describ',\n",
       " 'get',\n",
       " 'headlin',\n",
       " 'review',\n",
       " 'return',\n",
       " 'movi',\n",
       " 'get',\n",
       " 'actor',\n",
       " 'lakeith',\n",
       " 'stanfield',\n",
       " 'definit',\n",
       " 'hide',\n",
       " 'thought',\n",
       " 'white',\n",
       " 'review',\n",
       " 'twitter',\n",
       " 'movi',\n",
       " 'still',\n",
       " 'sit',\n",
       " 'fresh',\n",
       " 'rotten',\n",
       " 'tomato',\n",
       " 'even',\n",
       " 'though',\n",
       " 'ton',\n",
       " 'glow',\n",
       " 'review',\n",
       " 'sinc',\n",
       " 'come',\n",
       " 'fresh',\n",
       " 'review',\n",
       " 'one',\n",
       " 'rotten',\n",
       " 'one',\n",
       " 'never',\n",
       " 'get',\n",
       " 'back',\n",
       " 'round',\n",
       " 'nearest',\n",
       " 'whole',\n",
       " 'number',\n",
       " 'two',\n",
       " 'except',\n",
       " 'repres',\n",
       " 'rotten',\n",
       " 'tomato',\n",
       " 'told',\n",
       " 'buzzfe',\n",
       " 'news',\n",
       " 'round',\n",
       " 'round',\n",
       " 'reserv',\n",
       " 'absolut',\n",
       " 'movi',\n",
       " 'everi',\n",
       " 'singl',\n",
       " 'review',\n",
       " 'fresh',\n",
       " 'everi',\n",
       " 'singl',\n",
       " 'review',\n",
       " 'rotten',\n",
       " 'armond',\n",
       " 'white',\n",
       " 'say']"
      ]
     },
     "execution_count": 38,
     "metadata": {},
     "output_type": "execute_result"
    }
   ],
   "source": [
    "doc_list[1]"
   ]
  },
  {
   "cell_type": "code",
   "execution_count": 39,
   "metadata": {},
   "outputs": [
    {
     "data": {
      "text/plain": [
       "(2771, 9)"
      ]
     },
     "execution_count": 39,
     "metadata": {},
     "output_type": "execute_result"
    }
   ],
   "source": [
    "liwc_sia_array.shape"
   ]
  },
  {
   "cell_type": "code",
   "execution_count": 40,
   "metadata": {},
   "outputs": [
    {
     "data": {
      "text/plain": [
       "(2771, 7)"
      ]
     },
     "execution_count": 40,
     "metadata": {},
     "output_type": "execute_result"
    }
   ],
   "source": [
    "bi_weapon_array.shape"
   ]
  },
  {
   "cell_type": "code",
   "execution_count": null,
   "metadata": {},
   "outputs": [],
   "source": []
  },
  {
   "cell_type": "markdown",
   "metadata": {},
   "source": [
    "### optimal run: train the model with all documents"
   ]
  },
  {
   "cell_type": "code",
   "execution_count": null,
   "metadata": {},
   "outputs": [],
   "source": []
  },
  {
   "cell_type": "code",
   "execution_count": 41,
   "metadata": {},
   "outputs": [],
   "source": [
    "num_topics = 10\n",
    "n_estimators = 200"
   ]
  },
  {
   "cell_type": "code",
   "execution_count": 42,
   "metadata": {},
   "outputs": [
    {
     "name": "stderr",
     "output_type": "stream",
     "text": [
      "/var/folders/f4/kdl4gvs93cdcx85y_wrml1nc0000gn/T/ipykernel_56395/3815747412.py:1: VisibleDeprecationWarning: Creating an ndarray from ragged nested sequences (which is a list-or-tuple of lists-or-tuples-or ndarrays with different lengths or shapes) is deprecated. If you meant to do this, you must specify 'dtype=object' when creating the ndarray.\n",
      "  doc_array = np.array(doc_list)\n"
     ]
    },
    {
     "data": {
      "text/plain": [
       "(2771,)"
      ]
     },
     "execution_count": 42,
     "metadata": {},
     "output_type": "execute_result"
    }
   ],
   "source": [
    "doc_array = np.array(doc_list)\n",
    "doc_array.shape"
   ]
  },
  {
   "cell_type": "code",
   "execution_count": 43,
   "metadata": {},
   "outputs": [
    {
     "data": {
      "text/plain": [
       "['get',\n",
       " 'rate',\n",
       " 'rotten',\n",
       " 'tomato',\n",
       " 'ever',\n",
       " 'fact',\n",
       " 'jordan',\n",
       " 'peel',\n",
       " 'get',\n",
       " 'one',\n",
       " 'film',\n",
       " 'thriller',\n",
       " 'sit',\n",
       " 'impress',\n",
       " 'fresh',\n",
       " 'rotten',\n",
       " 'tomato',\n",
       " 'one',\n",
       " 'point',\n",
       " 'film',\n",
       " 'held',\n",
       " 'steadi',\n",
       " 'fresh',\n",
       " 'score',\n",
       " 'came',\n",
       " 'halt',\n",
       " 'one',\n",
       " 'review',\n",
       " 'rip',\n",
       " 'project',\n",
       " 'nation',\n",
       " 'review',\n",
       " 'armond',\n",
       " 'white',\n",
       " 'describ',\n",
       " 'get',\n",
       " 'headlin',\n",
       " 'review',\n",
       " 'return',\n",
       " 'movi',\n",
       " 'get',\n",
       " 'actor',\n",
       " 'lakeith',\n",
       " 'stanfield',\n",
       " 'definit',\n",
       " 'hide',\n",
       " 'thought',\n",
       " 'white',\n",
       " 'review',\n",
       " 'twitter',\n",
       " 'movi',\n",
       " 'still',\n",
       " 'sit',\n",
       " 'fresh',\n",
       " 'rotten',\n",
       " 'tomato',\n",
       " 'even',\n",
       " 'though',\n",
       " 'ton',\n",
       " 'glow',\n",
       " 'review',\n",
       " 'sinc',\n",
       " 'come',\n",
       " 'fresh',\n",
       " 'review',\n",
       " 'one',\n",
       " 'rotten',\n",
       " 'one',\n",
       " 'never',\n",
       " 'get',\n",
       " 'back',\n",
       " 'round',\n",
       " 'nearest',\n",
       " 'whole',\n",
       " 'number',\n",
       " 'two',\n",
       " 'except',\n",
       " 'repres',\n",
       " 'rotten',\n",
       " 'tomato',\n",
       " 'told',\n",
       " 'buzzfe',\n",
       " 'news',\n",
       " 'round',\n",
       " 'round',\n",
       " 'reserv',\n",
       " 'absolut',\n",
       " 'movi',\n",
       " 'everi',\n",
       " 'singl',\n",
       " 'review',\n",
       " 'fresh',\n",
       " 'everi',\n",
       " 'singl',\n",
       " 'review',\n",
       " 'rotten',\n",
       " 'armond',\n",
       " 'white',\n",
       " 'say']"
      ]
     },
     "execution_count": 43,
     "metadata": {},
     "output_type": "execute_result"
    }
   ],
   "source": [
    "doc_array[1]"
   ]
  },
  {
   "cell_type": "code",
   "execution_count": 44,
   "metadata": {},
   "outputs": [],
   "source": [
    "liwc_sia_array_train = liwc_sia_array\n",
    "doc_array_train = doc_array\n",
    "\n",
    "bi_weapon_array_train = bi_weapon_array"
   ]
  },
  {
   "cell_type": "code",
   "execution_count": 45,
   "metadata": {},
   "outputs": [
    {
     "name": "stdout",
     "output_type": "stream",
     "text": [
      "len of dictionary.keys:  14938\n"
     ]
    }
   ],
   "source": [
    "dictionary = 0\n",
    "dictionary = gs.corpora.Dictionary(doc_array_train)\n",
    "print('len of dictionary.keys: ', len(dictionary.keys()))"
   ]
  },
  {
   "cell_type": "code",
   "execution_count": 46,
   "metadata": {
    "scrolled": true
   },
   "outputs": [
    {
     "name": "stdout",
     "output_type": "stream",
     "text": [
      "CPU times: user 2.74 s, sys: 13.4 ms, total: 2.75 s\n",
      "Wall time: 2.75 s\n"
     ]
    }
   ],
   "source": [
    "%%time\n",
    "corpus_array_train = [dictionary.doc2bow(text) for text in doc_array_train]\n",
    "lda = LdaModel(corpus_array_train, num_topics=num_topics, alpha='asymmetric', eval_every=3)"
   ]
  },
  {
   "cell_type": "code",
   "execution_count": 47,
   "metadata": {},
   "outputs": [],
   "source": [
    "# get ptd for train and test\n",
    "ptd_train = get_ptd_from_lda(lda, corpus_array_train)"
   ]
  },
  {
   "cell_type": "code",
   "execution_count": 48,
   "metadata": {},
   "outputs": [],
   "source": [
    "ptd_liwc_sia_train = np.concatenate((ptd_train, liwc_sia_array_train), axis=1)"
   ]
  },
  {
   "cell_type": "code",
   "execution_count": 49,
   "metadata": {
    "scrolled": false
   },
   "outputs": [
    {
     "data": {
      "text/plain": [
       "RandomForestClassifier(n_estimators=200, random_state=2)"
      ]
     },
     "execution_count": 49,
     "metadata": {},
     "output_type": "execute_result"
    }
   ],
   "source": [
    "rfc = RandomForestClassifier(n_estimators=n_estimators, random_state=2)\n",
    "rfc.fit(ptd_liwc_sia_train, bi_weapon_array_train)"
   ]
  },
  {
   "cell_type": "code",
   "execution_count": null,
   "metadata": {},
   "outputs": [],
   "source": []
  },
  {
   "cell_type": "markdown",
   "metadata": {},
   "source": [
    "### get feature importance"
   ]
  },
  {
   "cell_type": "code",
   "execution_count": 50,
   "metadata": {},
   "outputs": [
    {
     "data": {
      "text/plain": [
       "(2771, 19)"
      ]
     },
     "execution_count": 50,
     "metadata": {},
     "output_type": "execute_result"
    }
   ],
   "source": [
    "ptd_liwc_sia_train.shape"
   ]
  },
  {
   "cell_type": "code",
   "execution_count": 51,
   "metadata": {},
   "outputs": [
    {
     "data": {
      "text/plain": [
       "(19,)"
      ]
     },
     "execution_count": 51,
     "metadata": {},
     "output_type": "execute_result"
    }
   ],
   "source": [
    "rfc.feature_importances_.shape"
   ]
  },
  {
   "cell_type": "code",
   "execution_count": 52,
   "metadata": {},
   "outputs": [
    {
     "data": {
      "text/plain": [
       "['T00',\n",
       " 'T01',\n",
       " 'T02',\n",
       " 'T03',\n",
       " 'T04',\n",
       " 'T05',\n",
       " 'T06',\n",
       " 'T07',\n",
       " 'T08',\n",
       " 'T09',\n",
       " 'anx_liwc',\n",
       " 'anger_liwc',\n",
       " 'sad_liwc',\n",
       " 'reward_liwc',\n",
       " 'risk_liwc',\n",
       " 'time_liwc',\n",
       " 'money_liwc',\n",
       " 'pos_sia',\n",
       " 'neg_sia']"
      ]
     },
     "execution_count": 52,
     "metadata": {},
     "output_type": "execute_result"
    }
   ],
   "source": [
    "input_feature_name_list = ['T%s' % str(i).zfill(2) for i in range(num_topics)] + liwc_list + sia_list\n",
    "input_feature_name_list"
   ]
  },
  {
   "cell_type": "code",
   "execution_count": 53,
   "metadata": {},
   "outputs": [
    {
     "data": {
      "text/plain": [
       "[0.06148744417306282,\n",
       " 0.07321419620153667,\n",
       " 0.062055710565359336,\n",
       " 0.05416401476236872,\n",
       " 0.05916832639556227,\n",
       " 0.0585751691975027,\n",
       " 0.05592424739567315,\n",
       " 0.05970556648233258,\n",
       " 0.06511103825749094,\n",
       " 0.05777441341494983,\n",
       " 0.012421629596441629,\n",
       " 0.028445633007357037,\n",
       " 0.017950349275008923,\n",
       " 0.04684855769630377,\n",
       " 0.03710621085345177,\n",
       " 0.06127891440356929,\n",
       " 0.04716704583499552,\n",
       " 0.07115103307862254,\n",
       " 0.07045049940841043]"
      ]
     },
     "execution_count": 53,
     "metadata": {},
     "output_type": "execute_result"
    }
   ],
   "source": [
    "input_feature_importance_list = list(rfc.feature_importances_)\n",
    "input_feature_importance_list"
   ]
  },
  {
   "cell_type": "code",
   "execution_count": 54,
   "metadata": {},
   "outputs": [],
   "source": [
    "input_feature_importance_dict = {}\n",
    "input_feature_importance_dict['feature_name'] = input_feature_name_list\n",
    "input_feature_importance_dict['feature_importance'] = input_feature_importance_list\n"
   ]
  },
  {
   "cell_type": "code",
   "execution_count": 55,
   "metadata": {},
   "outputs": [],
   "source": [
    "input_feature_importance_df = pd.DataFrame(input_feature_importance_dict)"
   ]
  },
  {
   "cell_type": "code",
   "execution_count": 56,
   "metadata": {},
   "outputs": [
    {
     "data": {
      "text/plain": [
       "(19, 2)"
      ]
     },
     "execution_count": 56,
     "metadata": {},
     "output_type": "execute_result"
    }
   ],
   "source": [
    "input_feature_importance_df.shape"
   ]
  },
  {
   "cell_type": "code",
   "execution_count": 57,
   "metadata": {
    "scrolled": false
   },
   "outputs": [
    {
     "data": {
      "text/html": [
       "<div>\n",
       "<style scoped>\n",
       "    .dataframe tbody tr th:only-of-type {\n",
       "        vertical-align: middle;\n",
       "    }\n",
       "\n",
       "    .dataframe tbody tr th {\n",
       "        vertical-align: top;\n",
       "    }\n",
       "\n",
       "    .dataframe thead th {\n",
       "        text-align: right;\n",
       "    }\n",
       "</style>\n",
       "<table border=\"1\" class=\"dataframe\">\n",
       "  <thead>\n",
       "    <tr style=\"text-align: right;\">\n",
       "      <th></th>\n",
       "      <th>feature_name</th>\n",
       "      <th>feature_importance</th>\n",
       "    </tr>\n",
       "  </thead>\n",
       "  <tbody>\n",
       "    <tr>\n",
       "      <th>1</th>\n",
       "      <td>T01</td>\n",
       "      <td>0.073214</td>\n",
       "    </tr>\n",
       "    <tr>\n",
       "      <th>17</th>\n",
       "      <td>pos_sia</td>\n",
       "      <td>0.071151</td>\n",
       "    </tr>\n",
       "    <tr>\n",
       "      <th>18</th>\n",
       "      <td>neg_sia</td>\n",
       "      <td>0.070450</td>\n",
       "    </tr>\n",
       "    <tr>\n",
       "      <th>8</th>\n",
       "      <td>T08</td>\n",
       "      <td>0.065111</td>\n",
       "    </tr>\n",
       "    <tr>\n",
       "      <th>2</th>\n",
       "      <td>T02</td>\n",
       "      <td>0.062056</td>\n",
       "    </tr>\n",
       "    <tr>\n",
       "      <th>0</th>\n",
       "      <td>T00</td>\n",
       "      <td>0.061487</td>\n",
       "    </tr>\n",
       "    <tr>\n",
       "      <th>15</th>\n",
       "      <td>time_liwc</td>\n",
       "      <td>0.061279</td>\n",
       "    </tr>\n",
       "    <tr>\n",
       "      <th>7</th>\n",
       "      <td>T07</td>\n",
       "      <td>0.059706</td>\n",
       "    </tr>\n",
       "    <tr>\n",
       "      <th>4</th>\n",
       "      <td>T04</td>\n",
       "      <td>0.059168</td>\n",
       "    </tr>\n",
       "    <tr>\n",
       "      <th>5</th>\n",
       "      <td>T05</td>\n",
       "      <td>0.058575</td>\n",
       "    </tr>\n",
       "  </tbody>\n",
       "</table>\n",
       "</div>"
      ],
      "text/plain": [
       "   feature_name  feature_importance\n",
       "1           T01            0.073214\n",
       "17      pos_sia            0.071151\n",
       "18      neg_sia            0.070450\n",
       "8           T08            0.065111\n",
       "2           T02            0.062056\n",
       "0           T00            0.061487\n",
       "15    time_liwc            0.061279\n",
       "7           T07            0.059706\n",
       "4           T04            0.059168\n",
       "5           T05            0.058575"
      ]
     },
     "execution_count": 57,
     "metadata": {},
     "output_type": "execute_result"
    }
   ],
   "source": [
    "top_feature_df = input_feature_importance_df.sort_values(by='feature_importance', ascending=0)[:10].copy()\n",
    "top_feature_df"
   ]
  },
  {
   "cell_type": "code",
   "execution_count": 58,
   "metadata": {},
   "outputs": [
    {
     "data": {
      "text/plain": [
       "array(['T01', 'pos_sia', 'neg_sia', 'T08', 'T02', 'T00', 'time_liwc',\n",
       "       'T07', 'T04', 'T05'], dtype=object)"
      ]
     },
     "execution_count": 58,
     "metadata": {},
     "output_type": "execute_result"
    }
   ],
   "source": [
    "top_feature_df.feature_name.values"
   ]
  },
  {
   "cell_type": "code",
   "execution_count": 59,
   "metadata": {},
   "outputs": [
    {
     "data": {
      "text/plain": [
       "[1, 8, 2, 0, 7, 4, 5]"
      ]
     },
     "execution_count": 59,
     "metadata": {},
     "output_type": "execute_result"
    }
   ],
   "source": [
    "important_topic_id_list = [int(i[1:]) for i in top_feature_df.feature_name.values if len(i) == 3]\n",
    "important_topic_id_list"
   ]
  },
  {
   "cell_type": "code",
   "execution_count": null,
   "metadata": {},
   "outputs": [],
   "source": []
  },
  {
   "cell_type": "markdown",
   "metadata": {},
   "source": [
    "### pick some topics"
   ]
  },
  {
   "cell_type": "code",
   "execution_count": 60,
   "metadata": {
    "scrolled": false
   },
   "outputs": [
    {
     "name": "stdout",
     "output_type": "stream",
     "text": [
      "****************************************\n",
      "Topic 0\n",
      "said 0.009896377\n",
      "report 0.008440824\n",
      "year 0.004845418\n",
      "trump 0.004435435\n",
      "account 0.0041735223\n",
      "compani 0.0040721823\n",
      "sale 0.003577772\n",
      "new 0.0035650395\n",
      "first 0.0034793408\n",
      "servic 0.0034790488\n",
      "news 0.0032338854\n",
      "one 0.003182733\n",
      "survey 0.0030126034\n",
      "show 0.0029507533\n",
      "presid 0.0028628297\n",
      "million 0.0028590895\n",
      "state 0.002791546\n",
      "journal 0.0026937404\n",
      "store 0.0026886943\n",
      "part 0.0026560966\n",
      "****************************************\n",
      "Topic 1\n",
      "account 0.009373335\n",
      "bank 0.0051509165\n",
      "secur 0.0049540694\n",
      "time 0.004919784\n",
      "said 0.0043909126\n",
      "onlin 0.004282199\n",
      "report 0.004274663\n",
      "new 0.0040234304\n",
      "email 0.0038183632\n",
      "year 0.0038080055\n",
      "click 0.0036952791\n",
      "cruz 0.0036839554\n",
      "access 0.0036344698\n",
      "state 0.003568444\n",
      "date 0.0031724784\n",
      "follow 0.0031459776\n",
      "say 0.003136216\n",
      "facebook 0.003045704\n",
      "one 0.0029995223\n",
      "trump 0.002931519\n",
      "****************************************\n",
      "Topic 2\n",
      "black 0.0075292503\n",
      "said 0.0073816837\n",
      "new 0.0070563396\n",
      "peopl 0.0069066333\n",
      "one 0.006526005\n",
      "trump 0.00617128\n",
      "polic 0.0058504655\n",
      "year 0.00414111\n",
      "follow 0.0040922356\n",
      "twitter 0.004082135\n",
      "report 0.0039840294\n",
      "time 0.0038760349\n",
      "like 0.0038121447\n",
      "white 0.0037290032\n",
      "show 0.0035770005\n",
      "video 0.003516107\n",
      "offic 0.0034274622\n",
      "live 0.0033215364\n",
      "presid 0.0032931743\n",
      "man 0.0032702482\n",
      "****************************************\n",
      "Topic 4\n",
      "said 0.00771446\n",
      "report 0.0073650987\n",
      "like 0.005620647\n",
      "peopl 0.005343456\n",
      "account 0.005198817\n",
      "follow 0.004129135\n",
      "video 0.004120939\n",
      "state 0.004088173\n",
      "inform 0.004028526\n",
      "trump 0.004005148\n",
      "updat 0.0039548245\n",
      "edit 0.0037718092\n",
      "news 0.0037126055\n",
      "would 0.0036858604\n",
      "twitter 0.0036415735\n",
      "new 0.0035831705\n",
      "stori 0.003427787\n",
      "come 0.0032927638\n",
      "hous 0.0032047837\n",
      "share 0.0031014837\n",
      "****************************************\n",
      "Topic 5\n",
      "news 0.017442347\n",
      "buzzfe 0.015492745\n",
      "stori 0.009114136\n",
      "year 0.008618024\n",
      "said 0.0047777225\n",
      "new 0.0043749996\n",
      "read 0.0041412143\n",
      "kill 0.0036901592\n",
      "report 0.0036796022\n",
      "attack 0.0035700677\n",
      "scienc 0.0030269185\n",
      "peopl 0.0030223122\n",
      "facebook 0.0029967383\n",
      "time 0.0029239436\n",
      "winner 0.0029013348\n",
      "school 0.0028909075\n",
      "bird 0.002889054\n",
      "post 0.0027578531\n",
      "day 0.0027553882\n",
      "magazin 0.002669137\n",
      "****************************************\n",
      "Topic 7\n",
      "trump 0.024294442\n",
      "clinton 0.011030751\n",
      "said 0.009193254\n",
      "donald 0.0070753763\n",
      "hillari 0.0066615893\n",
      "presidenti 0.006647465\n",
      "new 0.0053760074\n",
      "republican 0.00475081\n",
      "presid 0.004735911\n",
      "peopl 0.0045676203\n",
      "elect 0.004536451\n",
      "state 0.0044465954\n",
      "news 0.004446447\n",
      "would 0.004192027\n",
      "say 0.004128074\n",
      "twitter 0.0040239682\n",
      "follow 0.0039072013\n",
      "watch 0.0038670856\n",
      "rubio 0.0038085873\n",
      "one 0.0037506202\n",
      "****************************************\n",
      "Topic 8\n",
      "report 0.016909778\n",
      "said 0.011623877\n",
      "edit 0.0103512425\n",
      "share 0.008046183\n",
      "billion 0.008012918\n",
      "nov 0.0075867027\n",
      "year 0.006689497\n",
      "sourc 0.0060631437\n",
      "per 0.0060129375\n",
      "million 0.0058377823\n",
      "compani 0.0055506085\n",
      "profit 0.005082765\n",
      "new 0.0049220007\n",
      "bengaluru 0.004838517\n",
      "quarter 0.0046199234\n",
      "net 0.0036974775\n",
      "rose 0.003512995\n",
      "first 0.0033364973\n",
      "time 0.003333372\n",
      "cent 0.003330095\n"
     ]
    }
   ],
   "source": [
    "for tmp_topic_id in range(num_topics):\n",
    "    if tmp_topic_id not in important_topic_id_list:\n",
    "        continue\n",
    "    print('*'*40)\n",
    "    print('Topic %s' % tmp_topic_id)\n",
    "    top_n_pwt_list = lda.get_topic_terms(tmp_topic_id, topn=20)\n",
    "    for tmp_pwt in top_n_pwt_list:\n",
    "        print(dictionary[tmp_pwt[0]], tmp_pwt[1])"
   ]
  },
  {
   "cell_type": "code",
   "execution_count": 61,
   "metadata": {},
   "outputs": [
    {
     "name": "stdout",
     "output_type": "stream",
     "text": [
      "['date', 'octob', 'repli', 'norepli', 'wellsfargo', 'com', 'import', 'messag', 'well', 'fargo', 'bank', 'well', 'fargo', 'constantli', 'protect', 'account', 'old', 'font', 'famili', 'verdana', 'color', 'thank', 'patienc', 'work', 'togeth', 'protect', 'account', 'sincer', 'well', 'fargo', 'bank', 'import', 'new', 'fdic', 'insur', 'rule', 'effect', 'decemb', 'decemb', 'well', 'fargo', 'right', 'reserv', 'nmlsr', 'equal', 'hous', 'lender']\n",
      "['add', 'text', 'photoshop', 'adjust', 'font', 'color', 'add', 'text', 'photoshop', 'step', 'along', 'adjust', 'color', 'font', 'text', 'may', 'use', 'add', 'text', 'imag', 'photoshop', 'creat', 'poster', 'want', 'label', 'photo', 'visit', 'homepag', 'stori', 'check', 'product', 'mention', 'articl', 'adob', 'photoshop', 'best', 'buy', 'macbook', 'pro', 'best', 'buy', 'add', 'text', 'photoshop', 'relat', 'coverag', 'fromhow', 'everyth', 'tech', 'undo', 'photoshop', 'depend', 'version', 'photoshop', 'havehow', 'rotat', 'imag', 'photoshop', 'simpl', 'stepshow', 'resiz', 'imag', 'photoshop', 'save', 'optim', 'use', 'webhow', 'crop', 'imag', 'photoshop', 'simpl', 'step', 'insid', 'receiv', 'commiss', 'buy', 'link']\n",
      "['italian', 'govern', 'summon', 'arcelormitt', 'ilva', 'contract', 'sourc', 'rome', 'nov', 'italian', 'govern', 'summon', 'repres', 'arcelormitt', 'meet', 'follow', 'group', 'decis', 'pull', 'contract', 'take', 'struggl', 'italian', 'steel', 'maker', 'ilva', 'govern', 'sourc', 'said', 'monday', 'govern', 'give', 'consent', 'close', 'ilva', 'legal', 'basi', 'contract', 'cancel', 'summon', 'mittal', 'rome', 'immedi', 'sourc', 'said', 'follow', 'meet', 'minist', 'involv', 'handl', 'case', 'report', 'giusepp', 'font']\n",
      "['itali', 'econ', 'minist', 'say', 'gdp', 'growth', 'wide', 'reacheabl', 'rome', 'itali', 'economi', 'slightli', 'grow', 'last', 'three', 'month', 'year', 'rise', 'gross', 'domest', 'product', 'gdp', 'wide', 'reachabl', 'economi', 'minist', 'roberto', 'gualtieri', 'said', 'tuesday', 'euro', 'zone', 'third', 'largest', 'economi', 'larg', 'stagnant', 'last', 'six', 'quarter', 'gdp', 'rise', 'third', 'quarter', 'year', 'short', 'term', 'forecast', 'model', 'show', 'slight', 'increas', 'could', 'improv', 'overal', 'growth', 'rate', 'also', 'posit', 'drag', 'effect', 'gualtieri', 'said', 'report', 'giusepp', 'font', 'edit', 'giulia', 'segreti']\n"
     ]
    }
   ],
   "source": [
    "for tmp_doc in doc_array:\n",
    "    if 'font' in tmp_doc:\n",
    "        print(tmp_doc)"
   ]
  },
  {
   "cell_type": "code",
   "execution_count": null,
   "metadata": {},
   "outputs": [],
   "source": []
  },
  {
   "cell_type": "code",
   "execution_count": null,
   "metadata": {},
   "outputs": [],
   "source": []
  },
  {
   "cell_type": "markdown",
   "metadata": {},
   "source": [
    "## test"
   ]
  },
  {
   "cell_type": "code",
   "execution_count": 62,
   "metadata": {},
   "outputs": [
    {
     "data": {
      "text/plain": [
       "1"
      ]
     },
     "execution_count": 62,
     "metadata": {},
     "output_type": "execute_result"
    }
   ],
   "source": [
    "1"
   ]
  },
  {
   "cell_type": "code",
   "execution_count": null,
   "metadata": {},
   "outputs": [],
   "source": []
  }
 ],
 "metadata": {
  "kernelspec": {
   "display_name": "Python 3 (ipykernel)",
   "language": "python",
   "name": "python3"
  },
  "language_info": {
   "codemirror_mode": {
    "name": "ipython",
    "version": 3
   },
   "file_extension": ".py",
   "mimetype": "text/x-python",
   "name": "python",
   "nbconvert_exporter": "python",
   "pygments_lexer": "ipython3",
   "version": "3.8.0"
  },
  "toc": {
   "base_numbering": 1,
   "nav_menu": {},
   "number_sections": true,
   "sideBar": true,
   "skip_h1_title": false,
   "title_cell": "Table of Contents",
   "title_sidebar": "Contents",
   "toc_cell": true,
   "toc_position": {
    "height": "calc(100% - 180px)",
    "left": "10px",
    "top": "150px",
    "width": "193.875px"
   },
   "toc_section_display": true,
   "toc_window_display": true
  }
 },
 "nbformat": 4,
 "nbformat_minor": 2
}
