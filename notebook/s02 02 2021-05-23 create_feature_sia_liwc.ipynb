{
 "cells": [
  {
   "cell_type": "markdown",
   "metadata": {
    "toc": true
   },
   "source": [
    "<h1>Table of Contents<span class=\"tocSkip\"></span></h1>\n",
    "<div class=\"toc\"><ul class=\"toc-item\"><li><span><a href=\"#package\" data-toc-modified-id=\"package-1\"><span class=\"toc-item-num\">1&nbsp;&nbsp;</span>package</a></span></li><li><span><a href=\"#function\" data-toc-modified-id=\"function-2\"><span class=\"toc-item-num\">2&nbsp;&nbsp;</span>function</a></span></li><li><span><a href=\"#main\" data-toc-modified-id=\"main-3\"><span class=\"toc-item-num\">3&nbsp;&nbsp;</span>main</a></span><ul class=\"toc-item\"><li><span><a href=\"#get-clean-raw-data\" data-toc-modified-id=\"get-clean-raw-data-3.1\"><span class=\"toc-item-num\">3.1&nbsp;&nbsp;</span>get clean raw data</a></span></li><li><span><a href=\"#create-sia-feature\" data-toc-modified-id=\"create-sia-feature-3.2\"><span class=\"toc-item-num\">3.2&nbsp;&nbsp;</span>create sia feature</a></span></li><li><span><a href=\"#create-liwc-feature\" data-toc-modified-id=\"create-liwc-feature-3.3\"><span class=\"toc-item-num\">3.3&nbsp;&nbsp;</span>create liwc feature</a></span></li><li><span><a href=\"#save-clean-doc-with-features\" data-toc-modified-id=\"save-clean-doc-with-features-3.4\"><span class=\"toc-item-num\">3.4&nbsp;&nbsp;</span>save clean doc with features</a></span></li></ul></li><li><span><a href=\"#test\" data-toc-modified-id=\"test-4\"><span class=\"toc-item-num\">4&nbsp;&nbsp;</span>test</a></span></li><li><span><a href=\"#end\" data-toc-modified-id=\"end-5\"><span class=\"toc-item-num\">5&nbsp;&nbsp;</span>end</a></span></li></ul></div>"
   ]
  },
  {
   "cell_type": "code",
   "execution_count": 1,
   "metadata": {},
   "outputs": [],
   "source": [
    "## Pre-setting\n",
    "# if one module is changed, this line will automatically reload that module\n",
    "%load_ext autoreload\n",
    "%autoreload 2\n",
    "# display the figure in the notebook\n",
    "%matplotlib inline\n",
    "# To change the font size in acrobat\n",
    "import matplotlib as mpl\n",
    "mpl.rcParams['pdf.fonttype'] = 42\n",
    "\n",
    "%load_ext memory_profiler"
   ]
  },
  {
   "cell_type": "code",
   "execution_count": null,
   "metadata": {},
   "outputs": [],
   "source": []
  },
  {
   "cell_type": "markdown",
   "metadata": {},
   "source": [
    "## package"
   ]
  },
  {
   "cell_type": "code",
   "execution_count": 2,
   "metadata": {},
   "outputs": [],
   "source": [
    "import os\n",
    "import sys\n",
    "curr_folder = os.path.dirname(__file__) if '__file__' in dir() else os.path.abspath('')\n",
    "src_dir = os.path.abspath(os.path.join(curr_folder, os.pardir, 'src'))\n",
    "if src_dir not in sys.path: sys.path.insert(0, src_dir)"
   ]
  },
  {
   "cell_type": "code",
   "execution_count": 3,
   "metadata": {},
   "outputs": [],
   "source": [
    "import warnings\n",
    "warnings.filterwarnings('ignore')"
   ]
  },
  {
   "cell_type": "code",
   "execution_count": 4,
   "metadata": {},
   "outputs": [],
   "source": [
    "## System package\n",
    "import numpy as np\n",
    "\n",
    "import matplotlib.pyplot as plt\n",
    "\n",
    "import pandas as pd\n",
    "pd.options.display.max_columns = 500\n",
    "# pd.options.display.max_rows = 500"
   ]
  },
  {
   "cell_type": "code",
   "execution_count": 5,
   "metadata": {},
   "outputs": [],
   "source": [
    "from nltk.tokenize import  word_tokenize\n",
    "import string\n",
    "from nltk.corpus import stopwords\n",
    "from nltk.stem import PorterStemmer\n",
    "\n",
    "import json"
   ]
  },
  {
   "cell_type": "code",
   "execution_count": 6,
   "metadata": {},
   "outputs": [],
   "source": [
    "from nltk.sentiment.vader import SentimentIntensityAnalyzer\n"
   ]
  },
  {
   "cell_type": "code",
   "execution_count": null,
   "metadata": {},
   "outputs": [],
   "source": []
  },
  {
   "cell_type": "markdown",
   "metadata": {},
   "source": [
    "## function"
   ]
  },
  {
   "cell_type": "code",
   "execution_count": null,
   "metadata": {},
   "outputs": [],
   "source": []
  },
  {
   "cell_type": "code",
   "execution_count": null,
   "metadata": {},
   "outputs": [],
   "source": []
  },
  {
   "cell_type": "markdown",
   "metadata": {},
   "source": [
    "## main"
   ]
  },
  {
   "cell_type": "code",
   "execution_count": null,
   "metadata": {},
   "outputs": [],
   "source": []
  },
  {
   "cell_type": "markdown",
   "metadata": {},
   "source": [
    "### get clean raw data"
   ]
  },
  {
   "cell_type": "code",
   "execution_count": 7,
   "metadata": {},
   "outputs": [],
   "source": [
    "clean_data_dir = os.path.abspath(os.path.join(os.pardir, 'data', 's2021_lumen_clean_data'))\n",
    "cleandoc_data_file = 's2021_05_23_02_lumen_clean_doc_data.csv'\n",
    "cleandoc_data_path = os.path.join(clean_data_dir, cleandoc_data_file)"
   ]
  },
  {
   "cell_type": "code",
   "execution_count": 8,
   "metadata": {},
   "outputs": [
    {
     "data": {
      "text/html": [
       "<div>\n",
       "<style scoped>\n",
       "    .dataframe tbody tr th:only-of-type {\n",
       "        vertical-align: middle;\n",
       "    }\n",
       "\n",
       "    .dataframe tbody tr th {\n",
       "        vertical-align: top;\n",
       "    }\n",
       "\n",
       "    .dataframe thead th {\n",
       "        text-align: right;\n",
       "    }\n",
       "</style>\n",
       "<table border=\"1\" class=\"dataframe\">\n",
       "  <thead>\n",
       "    <tr style=\"text-align: right;\">\n",
       "      <th></th>\n",
       "      <th>raw_text_id</th>\n",
       "      <th>raw_text</th>\n",
       "      <th>text_type</th>\n",
       "      <th>nostop_stem_doc</th>\n",
       "      <th>nostop_stem_doc_len</th>\n",
       "      <th>clean_doc</th>\n",
       "      <th>clean_doc_len</th>\n",
       "      <th>Authority or Expertise/Source Credibility</th>\n",
       "      <th>Blame/guilt</th>\n",
       "      <th>Commitment</th>\n",
       "      <th>Commitment- Call to Action</th>\n",
       "      <th>Commitment- Indignation</th>\n",
       "      <th>Emphasis</th>\n",
       "      <th>Gain framing</th>\n",
       "      <th>Liking</th>\n",
       "      <th>Loss framing</th>\n",
       "      <th>Objectivity</th>\n",
       "      <th>Reciprocation</th>\n",
       "      <th>Scarcity/Urgency/Opportunity</th>\n",
       "      <th>Social Proof</th>\n",
       "      <th>Social Proof- Admonition</th>\n",
       "      <th>Subjectivity</th>\n",
       "    </tr>\n",
       "  </thead>\n",
       "  <tbody>\n",
       "    <tr>\n",
       "      <th>0</th>\n",
       "      <td>0</td>\n",
       "      <td>\"A Baker Swept By,\" by Edward Hirsch Audio: Re...</td>\n",
       "      <td>news left</td>\n",
       "      <td>baker swept edward hirsch audio read author al...</td>\n",
       "      <td>69</td>\n",
       "      <td>a baker swept by by edward hirsch audio read b...</td>\n",
       "      <td>137</td>\n",
       "      <td>0</td>\n",
       "      <td>0</td>\n",
       "      <td>0</td>\n",
       "      <td>0</td>\n",
       "      <td>0</td>\n",
       "      <td>0</td>\n",
       "      <td>0</td>\n",
       "      <td>0</td>\n",
       "      <td>0</td>\n",
       "      <td>0</td>\n",
       "      <td>0</td>\n",
       "      <td>1</td>\n",
       "      <td>0</td>\n",
       "      <td>0</td>\n",
       "      <td>1</td>\n",
       "    </tr>\n",
       "    <tr>\n",
       "      <th>1</th>\n",
       "      <td>1</td>\n",
       "      <td>\"Get Out\" Won’t Have A 100% Rating On Rotten T...</td>\n",
       "      <td>news left</td>\n",
       "      <td>get rate rotten tomato ever fact jordan peel g...</td>\n",
       "      <td>99</td>\n",
       "      <td>get out won t have a rating on rotten tomatoes...</td>\n",
       "      <td>194</td>\n",
       "      <td>1</td>\n",
       "      <td>1</td>\n",
       "      <td>1</td>\n",
       "      <td>0</td>\n",
       "      <td>0</td>\n",
       "      <td>0</td>\n",
       "      <td>0</td>\n",
       "      <td>1</td>\n",
       "      <td>0</td>\n",
       "      <td>1</td>\n",
       "      <td>0</td>\n",
       "      <td>0</td>\n",
       "      <td>0</td>\n",
       "      <td>0</td>\n",
       "      <td>1</td>\n",
       "    </tr>\n",
       "    <tr>\n",
       "      <th>2</th>\n",
       "      <td>2</td>\n",
       "      <td>\"I wish you are still alive to see what Americ...</td>\n",
       "      <td>russian ad</td>\n",
       "      <td>wish still aliv see america turn</td>\n",
       "      <td>6</td>\n",
       "      <td>i wish you are still alive to see what america...</td>\n",
       "      <td>13</td>\n",
       "      <td>0</td>\n",
       "      <td>1</td>\n",
       "      <td>0</td>\n",
       "      <td>0</td>\n",
       "      <td>1</td>\n",
       "      <td>0</td>\n",
       "      <td>0</td>\n",
       "      <td>0</td>\n",
       "      <td>0</td>\n",
       "      <td>0</td>\n",
       "      <td>0</td>\n",
       "      <td>0</td>\n",
       "      <td>0</td>\n",
       "      <td>0</td>\n",
       "      <td>1</td>\n",
       "    </tr>\n",
       "    <tr>\n",
       "      <th>3</th>\n",
       "      <td>3</td>\n",
       "      <td>\"Know Your Rights or Your Safety Is At Risk In...</td>\n",
       "      <td>russian ad</td>\n",
       "      <td>know right safeti risk interact polic shock vi...</td>\n",
       "      <td>76</td>\n",
       "      <td>know your rights or your safety is at risk in ...</td>\n",
       "      <td>146</td>\n",
       "      <td>0</td>\n",
       "      <td>1</td>\n",
       "      <td>1</td>\n",
       "      <td>1</td>\n",
       "      <td>1</td>\n",
       "      <td>1</td>\n",
       "      <td>0</td>\n",
       "      <td>0</td>\n",
       "      <td>0</td>\n",
       "      <td>1</td>\n",
       "      <td>0</td>\n",
       "      <td>0</td>\n",
       "      <td>1</td>\n",
       "      <td>1</td>\n",
       "      <td>1</td>\n",
       "    </tr>\n",
       "    <tr>\n",
       "      <th>4</th>\n",
       "      <td>4</td>\n",
       "      <td>\"Nancy Pelosi was drunk again today,\" begins a...</td>\n",
       "      <td>fake news</td>\n",
       "      <td>nanci pelosi drunk today begin post recent sha...</td>\n",
       "      <td>90</td>\n",
       "      <td>nancy pelosi was drunk again today begins a po...</td>\n",
       "      <td>172</td>\n",
       "      <td>1</td>\n",
       "      <td>0</td>\n",
       "      <td>0</td>\n",
       "      <td>0</td>\n",
       "      <td>0</td>\n",
       "      <td>0</td>\n",
       "      <td>0</td>\n",
       "      <td>0</td>\n",
       "      <td>0</td>\n",
       "      <td>1</td>\n",
       "      <td>0</td>\n",
       "      <td>0</td>\n",
       "      <td>1</td>\n",
       "      <td>0</td>\n",
       "      <td>1</td>\n",
       "    </tr>\n",
       "    <tr>\n",
       "      <th>...</th>\n",
       "      <td>...</td>\n",
       "      <td>...</td>\n",
       "      <td>...</td>\n",
       "      <td>...</td>\n",
       "      <td>...</td>\n",
       "      <td>...</td>\n",
       "      <td>...</td>\n",
       "      <td>...</td>\n",
       "      <td>...</td>\n",
       "      <td>...</td>\n",
       "      <td>...</td>\n",
       "      <td>...</td>\n",
       "      <td>...</td>\n",
       "      <td>...</td>\n",
       "      <td>...</td>\n",
       "      <td>...</td>\n",
       "      <td>...</td>\n",
       "      <td>...</td>\n",
       "      <td>...</td>\n",
       "      <td>...</td>\n",
       "      <td>...</td>\n",
       "      <td>...</td>\n",
       "    </tr>\n",
       "    <tr>\n",
       "      <th>2993</th>\n",
       "      <td>2993</td>\n",
       "      <td>’The View’ Co-host Joy Behar: Trump Is ’The Mo...</td>\n",
       "      <td>news right</td>\n",
       "      <td>view host joy behar trump danger man aliv mond...</td>\n",
       "      <td>70</td>\n",
       "      <td>the view co host joy behar trump is the most d...</td>\n",
       "      <td>126</td>\n",
       "      <td>1</td>\n",
       "      <td>1</td>\n",
       "      <td>1</td>\n",
       "      <td>1</td>\n",
       "      <td>0</td>\n",
       "      <td>0</td>\n",
       "      <td>0</td>\n",
       "      <td>0</td>\n",
       "      <td>0</td>\n",
       "      <td>0</td>\n",
       "      <td>0</td>\n",
       "      <td>1</td>\n",
       "      <td>0</td>\n",
       "      <td>1</td>\n",
       "      <td>1</td>\n",
       "    </tr>\n",
       "    <tr>\n",
       "      <th>2994</th>\n",
       "      <td>2994</td>\n",
       "      <td>’Will Hillary Clinton Get Prosecuted’: Most-Go...</td>\n",
       "      <td>news right</td>\n",
       "      <td>hillari clinton get prosecut googl hillari sea...</td>\n",
       "      <td>76</td>\n",
       "      <td>will hillary clinton get prosecuted most googl...</td>\n",
       "      <td>128</td>\n",
       "      <td>1</td>\n",
       "      <td>0</td>\n",
       "      <td>0</td>\n",
       "      <td>0</td>\n",
       "      <td>0</td>\n",
       "      <td>0</td>\n",
       "      <td>0</td>\n",
       "      <td>0</td>\n",
       "      <td>0</td>\n",
       "      <td>1</td>\n",
       "      <td>0</td>\n",
       "      <td>0</td>\n",
       "      <td>0</td>\n",
       "      <td>0</td>\n",
       "      <td>0</td>\n",
       "    </tr>\n",
       "    <tr>\n",
       "      <th>2995</th>\n",
       "      <td>2995</td>\n",
       "      <td>’You Are Amazing!’ Donald Trump Wrote To Harry...</td>\n",
       "      <td>news left</td>\n",
       "      <td>amaz donald trump wrote harri reid letter sen ...</td>\n",
       "      <td>58</td>\n",
       "      <td>you are amazing donald trump wrote to harry re...</td>\n",
       "      <td>102</td>\n",
       "      <td>0</td>\n",
       "      <td>0</td>\n",
       "      <td>0</td>\n",
       "      <td>0</td>\n",
       "      <td>0</td>\n",
       "      <td>1</td>\n",
       "      <td>0</td>\n",
       "      <td>1</td>\n",
       "      <td>0</td>\n",
       "      <td>0</td>\n",
       "      <td>0</td>\n",
       "      <td>0</td>\n",
       "      <td>0</td>\n",
       "      <td>0</td>\n",
       "      <td>1</td>\n",
       "    </tr>\n",
       "    <tr>\n",
       "      <th>2996</th>\n",
       "      <td>2996</td>\n",
       "      <td>“Purple Rain” Is Returning To Theaters In Trib...</td>\n",
       "      <td>news left</td>\n",
       "      <td>purpl rain return theater tribut princ purpl r...</td>\n",
       "      <td>105</td>\n",
       "      <td>purple rain is returning to theaters in tribut...</td>\n",
       "      <td>182</td>\n",
       "      <td>1</td>\n",
       "      <td>0</td>\n",
       "      <td>1</td>\n",
       "      <td>0</td>\n",
       "      <td>0</td>\n",
       "      <td>0</td>\n",
       "      <td>0</td>\n",
       "      <td>1</td>\n",
       "      <td>0</td>\n",
       "      <td>1</td>\n",
       "      <td>0</td>\n",
       "      <td>1</td>\n",
       "      <td>0</td>\n",
       "      <td>0</td>\n",
       "      <td>0</td>\n",
       "    </tr>\n",
       "    <tr>\n",
       "      <th>2997</th>\n",
       "      <td>2997</td>\n",
       "      <td>“Things Jesus Never Said” Is Trending After Ho...</td>\n",
       "      <td>news left</td>\n",
       "      <td>thing jesu never said trend hous republican pa...</td>\n",
       "      <td>60</td>\n",
       "      <td>things jesus never said is trending after hous...</td>\n",
       "      <td>108</td>\n",
       "      <td>1</td>\n",
       "      <td>0</td>\n",
       "      <td>0</td>\n",
       "      <td>0</td>\n",
       "      <td>0</td>\n",
       "      <td>1</td>\n",
       "      <td>0</td>\n",
       "      <td>0</td>\n",
       "      <td>0</td>\n",
       "      <td>0</td>\n",
       "      <td>0</td>\n",
       "      <td>0</td>\n",
       "      <td>0</td>\n",
       "      <td>0</td>\n",
       "      <td>0</td>\n",
       "    </tr>\n",
       "  </tbody>\n",
       "</table>\n",
       "<p>2998 rows × 22 columns</p>\n",
       "</div>"
      ],
      "text/plain": [
       "      raw_text_id                                           raw_text  \\\n",
       "0               0  \"A Baker Swept By,\" by Edward Hirsch Audio: Re...   \n",
       "1               1  \"Get Out\" Won’t Have A 100% Rating On Rotten T...   \n",
       "2               2  \"I wish you are still alive to see what Americ...   \n",
       "3               3  \"Know Your Rights or Your Safety Is At Risk In...   \n",
       "4               4  \"Nancy Pelosi was drunk again today,\" begins a...   \n",
       "...           ...                                                ...   \n",
       "2993         2993  ’The View’ Co-host Joy Behar: Trump Is ’The Mo...   \n",
       "2994         2994  ’Will Hillary Clinton Get Prosecuted’: Most-Go...   \n",
       "2995         2995  ’You Are Amazing!’ Donald Trump Wrote To Harry...   \n",
       "2996         2996  “Purple Rain” Is Returning To Theaters In Trib...   \n",
       "2997         2997  “Things Jesus Never Said” Is Trending After Ho...   \n",
       "\n",
       "       text_type                                    nostop_stem_doc  \\\n",
       "0      news left  baker swept edward hirsch audio read author al...   \n",
       "1      news left  get rate rotten tomato ever fact jordan peel g...   \n",
       "2     russian ad                   wish still aliv see america turn   \n",
       "3     russian ad  know right safeti risk interact polic shock vi...   \n",
       "4      fake news  nanci pelosi drunk today begin post recent sha...   \n",
       "...          ...                                                ...   \n",
       "2993  news right  view host joy behar trump danger man aliv mond...   \n",
       "2994  news right  hillari clinton get prosecut googl hillari sea...   \n",
       "2995   news left  amaz donald trump wrote harri reid letter sen ...   \n",
       "2996   news left  purpl rain return theater tribut princ purpl r...   \n",
       "2997   news left  thing jesu never said trend hous republican pa...   \n",
       "\n",
       "      nostop_stem_doc_len                                          clean_doc  \\\n",
       "0                      69  a baker swept by by edward hirsch audio read b...   \n",
       "1                      99  get out won t have a rating on rotten tomatoes...   \n",
       "2                       6  i wish you are still alive to see what america...   \n",
       "3                      76  know your rights or your safety is at risk in ...   \n",
       "4                      90  nancy pelosi was drunk again today begins a po...   \n",
       "...                   ...                                                ...   \n",
       "2993                   70  the view co host joy behar trump is the most d...   \n",
       "2994                   76  will hillary clinton get prosecuted most googl...   \n",
       "2995                   58  you are amazing donald trump wrote to harry re...   \n",
       "2996                  105  purple rain is returning to theaters in tribut...   \n",
       "2997                   60  things jesus never said is trending after hous...   \n",
       "\n",
       "      clean_doc_len  Authority or Expertise/Source Credibility  Blame/guilt  \\\n",
       "0               137                                          0            0   \n",
       "1               194                                          1            1   \n",
       "2                13                                          0            1   \n",
       "3               146                                          0            1   \n",
       "4               172                                          1            0   \n",
       "...             ...                                        ...          ...   \n",
       "2993            126                                          1            1   \n",
       "2994            128                                          1            0   \n",
       "2995            102                                          0            0   \n",
       "2996            182                                          1            0   \n",
       "2997            108                                          1            0   \n",
       "\n",
       "      Commitment  Commitment- Call to Action  Commitment- Indignation  \\\n",
       "0              0                           0                        0   \n",
       "1              1                           0                        0   \n",
       "2              0                           0                        1   \n",
       "3              1                           1                        1   \n",
       "4              0                           0                        0   \n",
       "...          ...                         ...                      ...   \n",
       "2993           1                           1                        0   \n",
       "2994           0                           0                        0   \n",
       "2995           0                           0                        0   \n",
       "2996           1                           0                        0   \n",
       "2997           0                           0                        0   \n",
       "\n",
       "      Emphasis  Gain framing  Liking  Loss framing  Objectivity  \\\n",
       "0            0             0       0             0            0   \n",
       "1            0             0       1             0            1   \n",
       "2            0             0       0             0            0   \n",
       "3            1             0       0             0            1   \n",
       "4            0             0       0             0            1   \n",
       "...        ...           ...     ...           ...          ...   \n",
       "2993         0             0       0             0            0   \n",
       "2994         0             0       0             0            1   \n",
       "2995         1             0       1             0            0   \n",
       "2996         0             0       1             0            1   \n",
       "2997         1             0       0             0            0   \n",
       "\n",
       "      Reciprocation  Scarcity/Urgency/Opportunity  Social Proof  \\\n",
       "0                 0                             1             0   \n",
       "1                 0                             0             0   \n",
       "2                 0                             0             0   \n",
       "3                 0                             0             1   \n",
       "4                 0                             0             1   \n",
       "...             ...                           ...           ...   \n",
       "2993              0                             1             0   \n",
       "2994              0                             0             0   \n",
       "2995              0                             0             0   \n",
       "2996              0                             1             0   \n",
       "2997              0                             0             0   \n",
       "\n",
       "      Social Proof- Admonition  Subjectivity  \n",
       "0                            0             1  \n",
       "1                            0             1  \n",
       "2                            0             1  \n",
       "3                            1             1  \n",
       "4                            0             1  \n",
       "...                        ...           ...  \n",
       "2993                         1             1  \n",
       "2994                         0             0  \n",
       "2995                         0             1  \n",
       "2996                         0             0  \n",
       "2997                         0             0  \n",
       "\n",
       "[2998 rows x 22 columns]"
      ]
     },
     "execution_count": 8,
     "metadata": {},
     "output_type": "execute_result"
    }
   ],
   "source": [
    "cd_df = pd.read_csv(cleandoc_data_path)\n",
    "\n",
    "cd_df"
   ]
  },
  {
   "cell_type": "code",
   "execution_count": null,
   "metadata": {},
   "outputs": [],
   "source": []
  },
  {
   "cell_type": "markdown",
   "metadata": {},
   "source": [
    "### create sia feature"
   ]
  },
  {
   "cell_type": "code",
   "execution_count": 9,
   "metadata": {},
   "outputs": [],
   "source": [
    "sia = SentimentIntensityAnalyzer()"
   ]
  },
  {
   "cell_type": "code",
   "execution_count": 10,
   "metadata": {},
   "outputs": [
    {
     "name": "stdout",
     "output_type": "stream",
     "text": [
      "Wall time: 4.26 s\n"
     ]
    }
   ],
   "source": [
    "%%time\n",
    "\n",
    "doc_pos = []\n",
    "doc_compound = []\n",
    "doc_neu = []\n",
    "doc_neg = []\n",
    "\n",
    "\n",
    "for tmp_d in cd_df.clean_doc:\n",
    "    tmp_sia = sia.polarity_scores(tmp_d)\n",
    "    \n",
    "    doc_pos.append(tmp_sia['pos'])\n",
    "    doc_compound.append(tmp_sia['compound'])\n",
    "    doc_neu.append(tmp_sia['neu'])\n",
    "    doc_neg.append(tmp_sia['neg'])\n",
    "    \n",
    "    "
   ]
  },
  {
   "cell_type": "code",
   "execution_count": 11,
   "metadata": {},
   "outputs": [
    {
     "data": {
      "text/plain": [
       "{'neg': 0.047, 'neu': 0.817, 'pos': 0.136, 'compound': 0.8564}"
      ]
     },
     "execution_count": 11,
     "metadata": {},
     "output_type": "execute_result"
    }
   ],
   "source": [
    "tmp_sia"
   ]
  },
  {
   "cell_type": "code",
   "execution_count": 12,
   "metadata": {},
   "outputs": [],
   "source": [
    "cd_df['pos_sia'] = doc_pos\n",
    "cd_df['compound_sia'] = doc_compound\n",
    "cd_df['neu_sia'] = doc_neu\n",
    "cd_df['neg_sia'] = doc_neg"
   ]
  },
  {
   "cell_type": "code",
   "execution_count": null,
   "metadata": {},
   "outputs": [],
   "source": []
  },
  {
   "cell_type": "markdown",
   "metadata": {},
   "source": [
    "### create liwc feature"
   ]
  },
  {
   "cell_type": "markdown",
   "metadata": {},
   "source": [
    "- modified from function\n",
    "    - src\\obtainFeature\\obtainfeature.py\\obtain_liwc_feature_from_email_updateDf()"
   ]
  },
  {
   "cell_type": "markdown",
   "metadata": {},
   "source": [
    "- get  **needed cleaned-up liwc feature dict**"
   ]
  },
  {
   "cell_type": "code",
   "execution_count": 13,
   "metadata": {},
   "outputs": [],
   "source": [
    "liwc_feature_word_folder = os.path.abspath(os.path.join(os.pardir, 'data', 'tmp_liwc', 'processed_liwc'))\n",
    "liwc_feature_word_file = 'liwc_feature_word_dic.json'\n",
    "\n",
    "liwc_feature_word_location = os.path.join(liwc_feature_word_folder, liwc_feature_word_file)\n",
    "\n",
    "with open(liwc_feature_word_location) as data_file:\n",
    "    liwc_feature_word_dic = json.load(data_file)"
   ]
  },
  {
   "cell_type": "code",
   "execution_count": 14,
   "metadata": {},
   "outputs": [
    {
     "name": "stdout",
     "output_type": "stream",
     "text": [
      "posemo \t 464 \t ['accept', 'accepta', 'activ', 'admir', 'ador']\n",
      "negemo \t 571 \t ['abandon', 'abus', 'abusi', 'ach', 'adver']\n",
      "anx \t 92 \t ['afraid', 'alarm', 'anxieti', 'anxiou', 'anxious']\n",
      "anger \t 176 \t ['abus', 'abusi', 'aggravat', 'aggress', 'aggressor']\n",
      "sad \t 98 \t ['abandon', 'agoniz', 'agoni', 'alon', 'bereav']\n",
      "reward \t 75 \t ['access', 'accru', 'accumul', 'achiev', 'achievi']\n",
      "risk \t 81 \t ['abstain', 'alarm', 'apprehen', 'apprenhen', 'avers']\n",
      "time \t 251 \t ['abrupt', 'after', 'aftermath', 'afternoon', 'afterthought']\n",
      "money \t 167 \t ['account', 'accru', 'afford', 'atm', 'auction']\n"
     ]
    }
   ],
   "source": [
    "for tmp_key in liwc_feature_word_dic.keys():\n",
    "    print(tmp_key, '\\t', len(liwc_feature_word_dic[tmp_key]), '\\t', liwc_feature_word_dic[tmp_key][:5] )"
   ]
  },
  {
   "cell_type": "code",
   "execution_count": 15,
   "metadata": {},
   "outputs": [],
   "source": [
    "ps = PorterStemmer()\n",
    "\n",
    "liwc_feature_list = list(liwc_feature_word_dic.keys())\n",
    "\n",
    "liwc_feature_count_list_dict = {}\n",
    "for i in liwc_feature_list:\n",
    "    liwc_feature_count_list_dict[i] = []"
   ]
  },
  {
   "cell_type": "code",
   "execution_count": 16,
   "metadata": {},
   "outputs": [
    {
     "name": "stdout",
     "output_type": "stream",
     "text": [
      "Wall time: 21.7 s\n"
     ]
    }
   ],
   "source": [
    "%%time\n",
    "\n",
    "\n",
    "for tmp_string in cd_df.clean_doc:\n",
    "\n",
    "    tmp_liwc_feature_count_dict = {}\n",
    "    for i in liwc_feature_list:\n",
    "        tmp_liwc_feature_count_dict[i] = 0\n",
    "\n",
    "    for tmp_word in tmp_string.split():\n",
    "        tmp_word_stem = ps.stem(tmp_word)\n",
    "\n",
    "        for tmp_liwc_feature in liwc_feature_list:\n",
    "            if tmp_word_stem in liwc_feature_word_dic[tmp_liwc_feature]:\n",
    "                tmp_liwc_feature_count_dict[tmp_liwc_feature] += 1\n",
    "\n",
    "    for i in liwc_feature_list:\n",
    "        liwc_feature_count_list_dict[i].append(tmp_liwc_feature_count_dict[i])"
   ]
  },
  {
   "cell_type": "code",
   "execution_count": 17,
   "metadata": {},
   "outputs": [
    {
     "name": "stdout",
     "output_type": "stream",
     "text": [
      "posemo 2998\n",
      "negemo 2998\n",
      "anx 2998\n",
      "anger 2998\n",
      "sad 2998\n",
      "reward 2998\n",
      "risk 2998\n",
      "time 2998\n",
      "money 2998\n"
     ]
    }
   ],
   "source": [
    "for i in liwc_feature_list:\n",
    "    print(i, len(liwc_feature_count_list_dict[i]))"
   ]
  },
  {
   "cell_type": "code",
   "execution_count": 18,
   "metadata": {},
   "outputs": [],
   "source": [
    "for i in liwc_feature_list:\n",
    "    cd_df['%s_liwc'%i] = liwc_feature_count_list_dict[i]"
   ]
  },
  {
   "cell_type": "code",
   "execution_count": null,
   "metadata": {},
   "outputs": [],
   "source": []
  },
  {
   "cell_type": "markdown",
   "metadata": {},
   "source": [
    "### save clean doc with features"
   ]
  },
  {
   "cell_type": "code",
   "execution_count": 19,
   "metadata": {
    "scrolled": true
   },
   "outputs": [
    {
     "data": {
      "text/plain": [
       "['raw_text_id',\n",
       " 'raw_text',\n",
       " 'text_type',\n",
       " 'nostop_stem_doc',\n",
       " 'nostop_stem_doc_len',\n",
       " 'clean_doc',\n",
       " 'clean_doc_len',\n",
       " 'Authority or Expertise/Source Credibility',\n",
       " 'Blame/guilt',\n",
       " 'Commitment',\n",
       " 'Commitment- Call to Action',\n",
       " 'Commitment- Indignation',\n",
       " 'Emphasis',\n",
       " 'Gain framing',\n",
       " 'Liking',\n",
       " 'Loss framing',\n",
       " 'Objectivity',\n",
       " 'Reciprocation',\n",
       " 'Scarcity/Urgency/Opportunity',\n",
       " 'Social Proof',\n",
       " 'Social Proof- Admonition',\n",
       " 'Subjectivity',\n",
       " 'pos_sia',\n",
       " 'compound_sia',\n",
       " 'neu_sia',\n",
       " 'neg_sia',\n",
       " 'posemo_liwc',\n",
       " 'negemo_liwc',\n",
       " 'anx_liwc',\n",
       " 'anger_liwc',\n",
       " 'sad_liwc',\n",
       " 'reward_liwc',\n",
       " 'risk_liwc',\n",
       " 'time_liwc',\n",
       " 'money_liwc']"
      ]
     },
     "execution_count": 19,
     "metadata": {},
     "output_type": "execute_result"
    }
   ],
   "source": [
    "list(cd_df.columns)"
   ]
  },
  {
   "cell_type": "code",
   "execution_count": 20,
   "metadata": {},
   "outputs": [],
   "source": [
    "columns = [\n",
    "    'raw_text_id',\n",
    "    'raw_text',\n",
    "    'text_type',\n",
    "    'nostop_stem_doc',\n",
    "    'nostop_stem_doc_len',\n",
    "    'clean_doc',\n",
    "    'clean_doc_len',\n",
    "\n",
    "    'pos_sia',\n",
    "    'compound_sia',\n",
    "    'neu_sia',\n",
    "    'neg_sia',\n",
    "\n",
    "    'posemo_liwc',\n",
    "    'negemo_liwc',\n",
    "    'anx_liwc',\n",
    "    'anger_liwc',\n",
    "    'sad_liwc',\n",
    "    'reward_liwc',\n",
    "    'risk_liwc',\n",
    "    'time_liwc',\n",
    "    'money_liwc',\n",
    "\n",
    "    'Authority or Expertise/Source Credibility',\n",
    "    'Blame/guilt',\n",
    "    'Commitment',\n",
    "    'Commitment- Call to Action',\n",
    "    'Commitment- Indignation',\n",
    "    'Emphasis',\n",
    "    'Gain framing',\n",
    "    'Liking',\n",
    "    'Loss framing',\n",
    "    'Objectivity',\n",
    "    'Reciprocation',\n",
    "    'Scarcity/Urgency/Opportunity',\n",
    "    'Social Proof',\n",
    "    'Social Proof- Admonition',\n",
    "    'Subjectivity',\n",
    "]"
   ]
  },
  {
   "cell_type": "code",
   "execution_count": 21,
   "metadata": {},
   "outputs": [],
   "source": [
    "cd_df = cd_df[columns]"
   ]
  },
  {
   "cell_type": "code",
   "execution_count": 22,
   "metadata": {},
   "outputs": [],
   "source": [
    "\n",
    "cd_sia_liwc_file = 's2021_05_23_03_lumen_clean_doc_sia_liwc.csv'\n",
    "cd_sia_liwc_path = os.path.join(clean_data_dir, cd_sia_liwc_file)"
   ]
  },
  {
   "cell_type": "code",
   "execution_count": 23,
   "metadata": {},
   "outputs": [],
   "source": [
    "cd_df.to_csv(cd_sia_liwc_path, index=False)"
   ]
  },
  {
   "cell_type": "code",
   "execution_count": null,
   "metadata": {},
   "outputs": [],
   "source": []
  },
  {
   "cell_type": "code",
   "execution_count": null,
   "metadata": {},
   "outputs": [],
   "source": []
  },
  {
   "cell_type": "markdown",
   "metadata": {},
   "source": [
    "## test"
   ]
  },
  {
   "cell_type": "code",
   "execution_count": 24,
   "metadata": {},
   "outputs": [
    {
     "data": {
      "text/plain": [
       "1"
      ]
     },
     "execution_count": 24,
     "metadata": {},
     "output_type": "execute_result"
    }
   ],
   "source": [
    "1"
   ]
  },
  {
   "cell_type": "code",
   "execution_count": null,
   "metadata": {},
   "outputs": [],
   "source": []
  },
  {
   "cell_type": "markdown",
   "metadata": {},
   "source": [
    "## end"
   ]
  },
  {
   "cell_type": "code",
   "execution_count": 25,
   "metadata": {},
   "outputs": [
    {
     "data": {
      "text/plain": [
       "1"
      ]
     },
     "execution_count": 25,
     "metadata": {},
     "output_type": "execute_result"
    }
   ],
   "source": [
    "1"
   ]
  },
  {
   "cell_type": "code",
   "execution_count": null,
   "metadata": {},
   "outputs": [],
   "source": []
  }
 ],
 "metadata": {
  "kernelspec": {
   "display_name": "Python 3",
   "language": "python",
   "name": "python3"
  },
  "language_info": {
   "codemirror_mode": {
    "name": "ipython",
    "version": 3
   },
   "file_extension": ".py",
   "mimetype": "text/x-python",
   "name": "python",
   "nbconvert_exporter": "python",
   "pygments_lexer": "ipython3",
   "version": "3.8.5"
  },
  "toc": {
   "base_numbering": 1,
   "nav_menu": {},
   "number_sections": true,
   "sideBar": true,
   "skip_h1_title": true,
   "title_cell": "Table of Contents",
   "title_sidebar": "Contents",
   "toc_cell": true,
   "toc_position": {
    "height": "calc(100% - 180px)",
    "left": "10px",
    "top": "150px",
    "width": "220.266px"
   },
   "toc_section_display": true,
   "toc_window_display": true
  }
 },
 "nbformat": 4,
 "nbformat_minor": 4
}
